{
  "nbformat": 4,
  "nbformat_minor": 0,
  "metadata": {
    "kernelspec": {
      "display_name": "Python 3",
      "language": "python",
      "name": "python3"
    },
    "language_info": {
      "codemirror_mode": {
        "name": "ipython",
        "version": 3
      },
      "file_extension": ".py",
      "mimetype": "text/x-python",
      "name": "python",
      "nbconvert_exporter": "python",
      "pygments_lexer": "ipython3",
      "version": "3.6.6"
    },
    "colab": {
      "provenance": [],
      "collapsed_sections": [],
      "include_colab_link": true
    }
  },
  "cells": [
    {
      "cell_type": "markdown",
      "metadata": {
        "id": "view-in-github",
        "colab_type": "text"
      },
      "source": [
        "<a href=\"https://colab.research.google.com/github/PrinceChauhan608/HOTELDBA-EDA-CAPSTONE/blob/main/Collab_Hotel_Booking_Analysis_Capstone_Project.ipynb\" target=\"_parent\"><img src=\"https://colab.research.google.com/assets/colab-badge.svg\" alt=\"Open In Colab\"/></a>"
      ]
    },
    {
      "cell_type": "markdown",
      "metadata": {
        "id": "Y06xIdG26kRF"
      },
      "source": [
        "## <b> Have you ever wondered when the best time of year to book a hotel room is? Or the optimal length of stay in order to get the best daily rate? What if you wanted to predict whether or not a hotel was likely to receive a disproportionately high number of special requests? This hotel booking dataset can help you explore those questions!\n",
        "\n",
        "## <b>This data set contains booking information for a city hotel and a resort hotel, and includes information such as when the booking was made, length of stay, the number of adults, children, and/or babies, and the number of available parking spaces, among other things. All personally identifying information has been removed from the data. </b>\n",
        "\n",
        "## <b> Explore and analyze the data to discover important factors that govern the bookings. </b>"
      ]
    },
    {
      "cell_type": "markdown",
      "source": [
        "# **Importing Essential libraries**"
      ],
      "metadata": {
        "id": "GyOlsL7xaoCj"
      }
    },
    {
      "cell_type": "code",
      "source": [
        "#importing libraries-\n",
        "\n",
        "import numpy as np\n",
        "import pandas as pd\n",
        "import matplotlib.pyplot as plt\n",
        "import seaborn as sns"
      ],
      "metadata": {
        "id": "9RVAT0eno172"
      },
      "execution_count": 11,
      "outputs": []
    },
    {
      "cell_type": "markdown",
      "source": [
        "# **Mounting Drive**"
      ],
      "metadata": {
        "id": "RYFA9ExAa0Be"
      }
    },
    {
      "cell_type": "code",
      "source": [
        "#mounting drive\n",
        "\n",
        "from google.colab import drive\n",
        "drive.mount('/content/drive')"
      ],
      "metadata": {
        "id": "TlRUtuQLpszD",
        "colab": {
          "base_uri": "https://localhost:8080/"
        },
        "outputId": "867f94f9-693e-463d-f3da-520cb05840ae"
      },
      "execution_count": 12,
      "outputs": [
        {
          "output_type": "stream",
          "name": "stdout",
          "text": [
            "Drive already mounted at /content/drive; to attempt to forcibly remount, call drive.mount(\"/content/drive\", force_remount=True).\n"
          ]
        }
      ]
    },
    {
      "cell_type": "code",
      "metadata": {
        "id": "dByMsuzT8Tnw"
      },
      "source": [
        "#importing dataset-\n",
        "\n",
        "hoteldb1=pd.read_csv('/content/drive/MyDrive/Colab Notebooks/Hotel Analysis Capstone Project/Hotel Bookings (1).csv')"
      ],
      "execution_count": 13,
      "outputs": []
    },
    {
      "cell_type": "markdown",
      "source": [
        "# **Creating a Copy of our dataset.**"
      ],
      "metadata": {
        "id": "YGkey2_kTuY7"
      }
    },
    {
      "cell_type": "code",
      "source": [
        "# creating a copy of our dataset.\n",
        "hoteldb=hoteldb1.copy()"
      ],
      "metadata": {
        "id": "kVmQF_k9T8rQ"
      },
      "execution_count": 14,
      "outputs": []
    },
    {
      "cell_type": "markdown",
      "source": [
        "# **Overview of the Dataset**"
      ],
      "metadata": {
        "id": "DdrGCRRiIBNx"
      }
    },
    {
      "cell_type": "code",
      "source": [
        "#Data Exploration(Total rows and columns count)-\n",
        "\n",
        "print(f\"We have {hoteldb.shape[0]} Rows and {hoteldb.shape[1]} Columns.\")"
      ],
      "metadata": {
        "id": "7TtXmDZRc1Bg",
        "colab": {
          "base_uri": "https://localhost:8080/"
        },
        "outputId": "fcc5dccd-a8cc-4fef-fcdb-dd12ac1ece60"
      },
      "execution_count": 15,
      "outputs": [
        {
          "output_type": "stream",
          "name": "stdout",
          "text": [
            "We have 119390 Rows and 32 Columns.\n"
          ]
        }
      ]
    },
    {
      "cell_type": "code",
      "source": [
        "#Top 5 Rows-\n",
        "\n",
        "hoteldb.head()"
      ],
      "metadata": {
        "id": "wHshdqU7psXw",
        "colab": {
          "base_uri": "https://localhost:8080/",
          "height": 386
        },
        "outputId": "ea300b1d-974c-4580-868c-922445dedbfa"
      },
      "execution_count": 16,
      "outputs": [
        {
          "output_type": "execute_result",
          "data": {
            "text/plain": [
              "          hotel  is_canceled  lead_time  arrival_date_year arrival_date_month  \\\n",
              "0  Resort Hotel            0        342               2015               July   \n",
              "1  Resort Hotel            0        737               2015               July   \n",
              "2  Resort Hotel            0          7               2015               July   \n",
              "3  Resort Hotel            0         13               2015               July   \n",
              "4  Resort Hotel            0         14               2015               July   \n",
              "\n",
              "   arrival_date_week_number  arrival_date_day_of_month  \\\n",
              "0                        27                          1   \n",
              "1                        27                          1   \n",
              "2                        27                          1   \n",
              "3                        27                          1   \n",
              "4                        27                          1   \n",
              "\n",
              "   stays_in_weekend_nights  stays_in_week_nights  adults  ...  deposit_type  \\\n",
              "0                        0                     0       2  ...    No Deposit   \n",
              "1                        0                     0       2  ...    No Deposit   \n",
              "2                        0                     1       1  ...    No Deposit   \n",
              "3                        0                     1       1  ...    No Deposit   \n",
              "4                        0                     2       2  ...    No Deposit   \n",
              "\n",
              "   agent company days_in_waiting_list customer_type   adr  \\\n",
              "0    NaN     NaN                    0     Transient   0.0   \n",
              "1    NaN     NaN                    0     Transient   0.0   \n",
              "2    NaN     NaN                    0     Transient  75.0   \n",
              "3  304.0     NaN                    0     Transient  75.0   \n",
              "4  240.0     NaN                    0     Transient  98.0   \n",
              "\n",
              "   required_car_parking_spaces  total_of_special_requests  reservation_status  \\\n",
              "0                            0                          0           Check-Out   \n",
              "1                            0                          0           Check-Out   \n",
              "2                            0                          0           Check-Out   \n",
              "3                            0                          0           Check-Out   \n",
              "4                            0                          1           Check-Out   \n",
              "\n",
              "  reservation_status_date  \n",
              "0              2015-07-01  \n",
              "1              2015-07-01  \n",
              "2              2015-07-02  \n",
              "3              2015-07-02  \n",
              "4              2015-07-03  \n",
              "\n",
              "[5 rows x 32 columns]"
            ],
            "text/html": [
              "\n",
              "  <div id=\"df-8fea8023-51e2-4df0-86ef-a56e36b66738\">\n",
              "    <div class=\"colab-df-container\">\n",
              "      <div>\n",
              "<style scoped>\n",
              "    .dataframe tbody tr th:only-of-type {\n",
              "        vertical-align: middle;\n",
              "    }\n",
              "\n",
              "    .dataframe tbody tr th {\n",
              "        vertical-align: top;\n",
              "    }\n",
              "\n",
              "    .dataframe thead th {\n",
              "        text-align: right;\n",
              "    }\n",
              "</style>\n",
              "<table border=\"1\" class=\"dataframe\">\n",
              "  <thead>\n",
              "    <tr style=\"text-align: right;\">\n",
              "      <th></th>\n",
              "      <th>hotel</th>\n",
              "      <th>is_canceled</th>\n",
              "      <th>lead_time</th>\n",
              "      <th>arrival_date_year</th>\n",
              "      <th>arrival_date_month</th>\n",
              "      <th>arrival_date_week_number</th>\n",
              "      <th>arrival_date_day_of_month</th>\n",
              "      <th>stays_in_weekend_nights</th>\n",
              "      <th>stays_in_week_nights</th>\n",
              "      <th>adults</th>\n",
              "      <th>...</th>\n",
              "      <th>deposit_type</th>\n",
              "      <th>agent</th>\n",
              "      <th>company</th>\n",
              "      <th>days_in_waiting_list</th>\n",
              "      <th>customer_type</th>\n",
              "      <th>adr</th>\n",
              "      <th>required_car_parking_spaces</th>\n",
              "      <th>total_of_special_requests</th>\n",
              "      <th>reservation_status</th>\n",
              "      <th>reservation_status_date</th>\n",
              "    </tr>\n",
              "  </thead>\n",
              "  <tbody>\n",
              "    <tr>\n",
              "      <th>0</th>\n",
              "      <td>Resort Hotel</td>\n",
              "      <td>0</td>\n",
              "      <td>342</td>\n",
              "      <td>2015</td>\n",
              "      <td>July</td>\n",
              "      <td>27</td>\n",
              "      <td>1</td>\n",
              "      <td>0</td>\n",
              "      <td>0</td>\n",
              "      <td>2</td>\n",
              "      <td>...</td>\n",
              "      <td>No Deposit</td>\n",
              "      <td>NaN</td>\n",
              "      <td>NaN</td>\n",
              "      <td>0</td>\n",
              "      <td>Transient</td>\n",
              "      <td>0.0</td>\n",
              "      <td>0</td>\n",
              "      <td>0</td>\n",
              "      <td>Check-Out</td>\n",
              "      <td>2015-07-01</td>\n",
              "    </tr>\n",
              "    <tr>\n",
              "      <th>1</th>\n",
              "      <td>Resort Hotel</td>\n",
              "      <td>0</td>\n",
              "      <td>737</td>\n",
              "      <td>2015</td>\n",
              "      <td>July</td>\n",
              "      <td>27</td>\n",
              "      <td>1</td>\n",
              "      <td>0</td>\n",
              "      <td>0</td>\n",
              "      <td>2</td>\n",
              "      <td>...</td>\n",
              "      <td>No Deposit</td>\n",
              "      <td>NaN</td>\n",
              "      <td>NaN</td>\n",
              "      <td>0</td>\n",
              "      <td>Transient</td>\n",
              "      <td>0.0</td>\n",
              "      <td>0</td>\n",
              "      <td>0</td>\n",
              "      <td>Check-Out</td>\n",
              "      <td>2015-07-01</td>\n",
              "    </tr>\n",
              "    <tr>\n",
              "      <th>2</th>\n",
              "      <td>Resort Hotel</td>\n",
              "      <td>0</td>\n",
              "      <td>7</td>\n",
              "      <td>2015</td>\n",
              "      <td>July</td>\n",
              "      <td>27</td>\n",
              "      <td>1</td>\n",
              "      <td>0</td>\n",
              "      <td>1</td>\n",
              "      <td>1</td>\n",
              "      <td>...</td>\n",
              "      <td>No Deposit</td>\n",
              "      <td>NaN</td>\n",
              "      <td>NaN</td>\n",
              "      <td>0</td>\n",
              "      <td>Transient</td>\n",
              "      <td>75.0</td>\n",
              "      <td>0</td>\n",
              "      <td>0</td>\n",
              "      <td>Check-Out</td>\n",
              "      <td>2015-07-02</td>\n",
              "    </tr>\n",
              "    <tr>\n",
              "      <th>3</th>\n",
              "      <td>Resort Hotel</td>\n",
              "      <td>0</td>\n",
              "      <td>13</td>\n",
              "      <td>2015</td>\n",
              "      <td>July</td>\n",
              "      <td>27</td>\n",
              "      <td>1</td>\n",
              "      <td>0</td>\n",
              "      <td>1</td>\n",
              "      <td>1</td>\n",
              "      <td>...</td>\n",
              "      <td>No Deposit</td>\n",
              "      <td>304.0</td>\n",
              "      <td>NaN</td>\n",
              "      <td>0</td>\n",
              "      <td>Transient</td>\n",
              "      <td>75.0</td>\n",
              "      <td>0</td>\n",
              "      <td>0</td>\n",
              "      <td>Check-Out</td>\n",
              "      <td>2015-07-02</td>\n",
              "    </tr>\n",
              "    <tr>\n",
              "      <th>4</th>\n",
              "      <td>Resort Hotel</td>\n",
              "      <td>0</td>\n",
              "      <td>14</td>\n",
              "      <td>2015</td>\n",
              "      <td>July</td>\n",
              "      <td>27</td>\n",
              "      <td>1</td>\n",
              "      <td>0</td>\n",
              "      <td>2</td>\n",
              "      <td>2</td>\n",
              "      <td>...</td>\n",
              "      <td>No Deposit</td>\n",
              "      <td>240.0</td>\n",
              "      <td>NaN</td>\n",
              "      <td>0</td>\n",
              "      <td>Transient</td>\n",
              "      <td>98.0</td>\n",
              "      <td>0</td>\n",
              "      <td>1</td>\n",
              "      <td>Check-Out</td>\n",
              "      <td>2015-07-03</td>\n",
              "    </tr>\n",
              "  </tbody>\n",
              "</table>\n",
              "<p>5 rows × 32 columns</p>\n",
              "</div>\n",
              "      <button class=\"colab-df-convert\" onclick=\"convertToInteractive('df-8fea8023-51e2-4df0-86ef-a56e36b66738')\"\n",
              "              title=\"Convert this dataframe to an interactive table.\"\n",
              "              style=\"display:none;\">\n",
              "        \n",
              "  <svg xmlns=\"http://www.w3.org/2000/svg\" height=\"24px\"viewBox=\"0 0 24 24\"\n",
              "       width=\"24px\">\n",
              "    <path d=\"M0 0h24v24H0V0z\" fill=\"none\"/>\n",
              "    <path d=\"M18.56 5.44l.94 2.06.94-2.06 2.06-.94-2.06-.94-.94-2.06-.94 2.06-2.06.94zm-11 1L8.5 8.5l.94-2.06 2.06-.94-2.06-.94L8.5 2.5l-.94 2.06-2.06.94zm10 10l.94 2.06.94-2.06 2.06-.94-2.06-.94-.94-2.06-.94 2.06-2.06.94z\"/><path d=\"M17.41 7.96l-1.37-1.37c-.4-.4-.92-.59-1.43-.59-.52 0-1.04.2-1.43.59L10.3 9.45l-7.72 7.72c-.78.78-.78 2.05 0 2.83L4 21.41c.39.39.9.59 1.41.59.51 0 1.02-.2 1.41-.59l7.78-7.78 2.81-2.81c.8-.78.8-2.07 0-2.86zM5.41 20L4 18.59l7.72-7.72 1.47 1.35L5.41 20z\"/>\n",
              "  </svg>\n",
              "      </button>\n",
              "      \n",
              "  <style>\n",
              "    .colab-df-container {\n",
              "      display:flex;\n",
              "      flex-wrap:wrap;\n",
              "      gap: 12px;\n",
              "    }\n",
              "\n",
              "    .colab-df-convert {\n",
              "      background-color: #E8F0FE;\n",
              "      border: none;\n",
              "      border-radius: 50%;\n",
              "      cursor: pointer;\n",
              "      display: none;\n",
              "      fill: #1967D2;\n",
              "      height: 32px;\n",
              "      padding: 0 0 0 0;\n",
              "      width: 32px;\n",
              "    }\n",
              "\n",
              "    .colab-df-convert:hover {\n",
              "      background-color: #E2EBFA;\n",
              "      box-shadow: 0px 1px 2px rgba(60, 64, 67, 0.3), 0px 1px 3px 1px rgba(60, 64, 67, 0.15);\n",
              "      fill: #174EA6;\n",
              "    }\n",
              "\n",
              "    [theme=dark] .colab-df-convert {\n",
              "      background-color: #3B4455;\n",
              "      fill: #D2E3FC;\n",
              "    }\n",
              "\n",
              "    [theme=dark] .colab-df-convert:hover {\n",
              "      background-color: #434B5C;\n",
              "      box-shadow: 0px 1px 3px 1px rgba(0, 0, 0, 0.15);\n",
              "      filter: drop-shadow(0px 1px 2px rgba(0, 0, 0, 0.3));\n",
              "      fill: #FFFFFF;\n",
              "    }\n",
              "  </style>\n",
              "\n",
              "      <script>\n",
              "        const buttonEl =\n",
              "          document.querySelector('#df-8fea8023-51e2-4df0-86ef-a56e36b66738 button.colab-df-convert');\n",
              "        buttonEl.style.display =\n",
              "          google.colab.kernel.accessAllowed ? 'block' : 'none';\n",
              "\n",
              "        async function convertToInteractive(key) {\n",
              "          const element = document.querySelector('#df-8fea8023-51e2-4df0-86ef-a56e36b66738');\n",
              "          const dataTable =\n",
              "            await google.colab.kernel.invokeFunction('convertToInteractive',\n",
              "                                                     [key], {});\n",
              "          if (!dataTable) return;\n",
              "\n",
              "          const docLinkHtml = 'Like what you see? Visit the ' +\n",
              "            '<a target=\"_blank\" href=https://colab.research.google.com/notebooks/data_table.ipynb>data table notebook</a>'\n",
              "            + ' to learn more about interactive tables.';\n",
              "          element.innerHTML = '';\n",
              "          dataTable['output_type'] = 'display_data';\n",
              "          await google.colab.output.renderOutput(dataTable, element);\n",
              "          const docLink = document.createElement('div');\n",
              "          docLink.innerHTML = docLinkHtml;\n",
              "          element.appendChild(docLink);\n",
              "        }\n",
              "      </script>\n",
              "    </div>\n",
              "  </div>\n",
              "  "
            ]
          },
          "metadata": {},
          "execution_count": 16
        }
      ]
    },
    {
      "cell_type": "code",
      "source": [
        "#Last 5 rows-\n",
        "\n",
        "hoteldb.tail()"
      ],
      "metadata": {
        "id": "q82yiXI-IlKi",
        "colab": {
          "base_uri": "https://localhost:8080/",
          "height": 386
        },
        "outputId": "e8fe8d83-f41b-4774-a9c0-490e4486ee47"
      },
      "execution_count": 17,
      "outputs": [
        {
          "output_type": "execute_result",
          "data": {
            "text/plain": [
              "             hotel  is_canceled  lead_time  arrival_date_year  \\\n",
              "119385  City Hotel            0         23               2017   \n",
              "119386  City Hotel            0        102               2017   \n",
              "119387  City Hotel            0         34               2017   \n",
              "119388  City Hotel            0        109               2017   \n",
              "119389  City Hotel            0        205               2017   \n",
              "\n",
              "       arrival_date_month  arrival_date_week_number  \\\n",
              "119385             August                        35   \n",
              "119386             August                        35   \n",
              "119387             August                        35   \n",
              "119388             August                        35   \n",
              "119389             August                        35   \n",
              "\n",
              "        arrival_date_day_of_month  stays_in_weekend_nights  \\\n",
              "119385                         30                        2   \n",
              "119386                         31                        2   \n",
              "119387                         31                        2   \n",
              "119388                         31                        2   \n",
              "119389                         29                        2   \n",
              "\n",
              "        stays_in_week_nights  adults  ...  deposit_type  agent company  \\\n",
              "119385                     5       2  ...    No Deposit  394.0     NaN   \n",
              "119386                     5       3  ...    No Deposit    9.0     NaN   \n",
              "119387                     5       2  ...    No Deposit    9.0     NaN   \n",
              "119388                     5       2  ...    No Deposit   89.0     NaN   \n",
              "119389                     7       2  ...    No Deposit    9.0     NaN   \n",
              "\n",
              "       days_in_waiting_list customer_type     adr  \\\n",
              "119385                    0     Transient   96.14   \n",
              "119386                    0     Transient  225.43   \n",
              "119387                    0     Transient  157.71   \n",
              "119388                    0     Transient  104.40   \n",
              "119389                    0     Transient  151.20   \n",
              "\n",
              "        required_car_parking_spaces  total_of_special_requests  \\\n",
              "119385                            0                          0   \n",
              "119386                            0                          2   \n",
              "119387                            0                          4   \n",
              "119388                            0                          0   \n",
              "119389                            0                          2   \n",
              "\n",
              "        reservation_status reservation_status_date  \n",
              "119385           Check-Out              2017-09-06  \n",
              "119386           Check-Out              2017-09-07  \n",
              "119387           Check-Out              2017-09-07  \n",
              "119388           Check-Out              2017-09-07  \n",
              "119389           Check-Out              2017-09-07  \n",
              "\n",
              "[5 rows x 32 columns]"
            ],
            "text/html": [
              "\n",
              "  <div id=\"df-9215bc96-8f8d-45f0-9760-2feeab9f2983\">\n",
              "    <div class=\"colab-df-container\">\n",
              "      <div>\n",
              "<style scoped>\n",
              "    .dataframe tbody tr th:only-of-type {\n",
              "        vertical-align: middle;\n",
              "    }\n",
              "\n",
              "    .dataframe tbody tr th {\n",
              "        vertical-align: top;\n",
              "    }\n",
              "\n",
              "    .dataframe thead th {\n",
              "        text-align: right;\n",
              "    }\n",
              "</style>\n",
              "<table border=\"1\" class=\"dataframe\">\n",
              "  <thead>\n",
              "    <tr style=\"text-align: right;\">\n",
              "      <th></th>\n",
              "      <th>hotel</th>\n",
              "      <th>is_canceled</th>\n",
              "      <th>lead_time</th>\n",
              "      <th>arrival_date_year</th>\n",
              "      <th>arrival_date_month</th>\n",
              "      <th>arrival_date_week_number</th>\n",
              "      <th>arrival_date_day_of_month</th>\n",
              "      <th>stays_in_weekend_nights</th>\n",
              "      <th>stays_in_week_nights</th>\n",
              "      <th>adults</th>\n",
              "      <th>...</th>\n",
              "      <th>deposit_type</th>\n",
              "      <th>agent</th>\n",
              "      <th>company</th>\n",
              "      <th>days_in_waiting_list</th>\n",
              "      <th>customer_type</th>\n",
              "      <th>adr</th>\n",
              "      <th>required_car_parking_spaces</th>\n",
              "      <th>total_of_special_requests</th>\n",
              "      <th>reservation_status</th>\n",
              "      <th>reservation_status_date</th>\n",
              "    </tr>\n",
              "  </thead>\n",
              "  <tbody>\n",
              "    <tr>\n",
              "      <th>119385</th>\n",
              "      <td>City Hotel</td>\n",
              "      <td>0</td>\n",
              "      <td>23</td>\n",
              "      <td>2017</td>\n",
              "      <td>August</td>\n",
              "      <td>35</td>\n",
              "      <td>30</td>\n",
              "      <td>2</td>\n",
              "      <td>5</td>\n",
              "      <td>2</td>\n",
              "      <td>...</td>\n",
              "      <td>No Deposit</td>\n",
              "      <td>394.0</td>\n",
              "      <td>NaN</td>\n",
              "      <td>0</td>\n",
              "      <td>Transient</td>\n",
              "      <td>96.14</td>\n",
              "      <td>0</td>\n",
              "      <td>0</td>\n",
              "      <td>Check-Out</td>\n",
              "      <td>2017-09-06</td>\n",
              "    </tr>\n",
              "    <tr>\n",
              "      <th>119386</th>\n",
              "      <td>City Hotel</td>\n",
              "      <td>0</td>\n",
              "      <td>102</td>\n",
              "      <td>2017</td>\n",
              "      <td>August</td>\n",
              "      <td>35</td>\n",
              "      <td>31</td>\n",
              "      <td>2</td>\n",
              "      <td>5</td>\n",
              "      <td>3</td>\n",
              "      <td>...</td>\n",
              "      <td>No Deposit</td>\n",
              "      <td>9.0</td>\n",
              "      <td>NaN</td>\n",
              "      <td>0</td>\n",
              "      <td>Transient</td>\n",
              "      <td>225.43</td>\n",
              "      <td>0</td>\n",
              "      <td>2</td>\n",
              "      <td>Check-Out</td>\n",
              "      <td>2017-09-07</td>\n",
              "    </tr>\n",
              "    <tr>\n",
              "      <th>119387</th>\n",
              "      <td>City Hotel</td>\n",
              "      <td>0</td>\n",
              "      <td>34</td>\n",
              "      <td>2017</td>\n",
              "      <td>August</td>\n",
              "      <td>35</td>\n",
              "      <td>31</td>\n",
              "      <td>2</td>\n",
              "      <td>5</td>\n",
              "      <td>2</td>\n",
              "      <td>...</td>\n",
              "      <td>No Deposit</td>\n",
              "      <td>9.0</td>\n",
              "      <td>NaN</td>\n",
              "      <td>0</td>\n",
              "      <td>Transient</td>\n",
              "      <td>157.71</td>\n",
              "      <td>0</td>\n",
              "      <td>4</td>\n",
              "      <td>Check-Out</td>\n",
              "      <td>2017-09-07</td>\n",
              "    </tr>\n",
              "    <tr>\n",
              "      <th>119388</th>\n",
              "      <td>City Hotel</td>\n",
              "      <td>0</td>\n",
              "      <td>109</td>\n",
              "      <td>2017</td>\n",
              "      <td>August</td>\n",
              "      <td>35</td>\n",
              "      <td>31</td>\n",
              "      <td>2</td>\n",
              "      <td>5</td>\n",
              "      <td>2</td>\n",
              "      <td>...</td>\n",
              "      <td>No Deposit</td>\n",
              "      <td>89.0</td>\n",
              "      <td>NaN</td>\n",
              "      <td>0</td>\n",
              "      <td>Transient</td>\n",
              "      <td>104.40</td>\n",
              "      <td>0</td>\n",
              "      <td>0</td>\n",
              "      <td>Check-Out</td>\n",
              "      <td>2017-09-07</td>\n",
              "    </tr>\n",
              "    <tr>\n",
              "      <th>119389</th>\n",
              "      <td>City Hotel</td>\n",
              "      <td>0</td>\n",
              "      <td>205</td>\n",
              "      <td>2017</td>\n",
              "      <td>August</td>\n",
              "      <td>35</td>\n",
              "      <td>29</td>\n",
              "      <td>2</td>\n",
              "      <td>7</td>\n",
              "      <td>2</td>\n",
              "      <td>...</td>\n",
              "      <td>No Deposit</td>\n",
              "      <td>9.0</td>\n",
              "      <td>NaN</td>\n",
              "      <td>0</td>\n",
              "      <td>Transient</td>\n",
              "      <td>151.20</td>\n",
              "      <td>0</td>\n",
              "      <td>2</td>\n",
              "      <td>Check-Out</td>\n",
              "      <td>2017-09-07</td>\n",
              "    </tr>\n",
              "  </tbody>\n",
              "</table>\n",
              "<p>5 rows × 32 columns</p>\n",
              "</div>\n",
              "      <button class=\"colab-df-convert\" onclick=\"convertToInteractive('df-9215bc96-8f8d-45f0-9760-2feeab9f2983')\"\n",
              "              title=\"Convert this dataframe to an interactive table.\"\n",
              "              style=\"display:none;\">\n",
              "        \n",
              "  <svg xmlns=\"http://www.w3.org/2000/svg\" height=\"24px\"viewBox=\"0 0 24 24\"\n",
              "       width=\"24px\">\n",
              "    <path d=\"M0 0h24v24H0V0z\" fill=\"none\"/>\n",
              "    <path d=\"M18.56 5.44l.94 2.06.94-2.06 2.06-.94-2.06-.94-.94-2.06-.94 2.06-2.06.94zm-11 1L8.5 8.5l.94-2.06 2.06-.94-2.06-.94L8.5 2.5l-.94 2.06-2.06.94zm10 10l.94 2.06.94-2.06 2.06-.94-2.06-.94-.94-2.06-.94 2.06-2.06.94z\"/><path d=\"M17.41 7.96l-1.37-1.37c-.4-.4-.92-.59-1.43-.59-.52 0-1.04.2-1.43.59L10.3 9.45l-7.72 7.72c-.78.78-.78 2.05 0 2.83L4 21.41c.39.39.9.59 1.41.59.51 0 1.02-.2 1.41-.59l7.78-7.78 2.81-2.81c.8-.78.8-2.07 0-2.86zM5.41 20L4 18.59l7.72-7.72 1.47 1.35L5.41 20z\"/>\n",
              "  </svg>\n",
              "      </button>\n",
              "      \n",
              "  <style>\n",
              "    .colab-df-container {\n",
              "      display:flex;\n",
              "      flex-wrap:wrap;\n",
              "      gap: 12px;\n",
              "    }\n",
              "\n",
              "    .colab-df-convert {\n",
              "      background-color: #E8F0FE;\n",
              "      border: none;\n",
              "      border-radius: 50%;\n",
              "      cursor: pointer;\n",
              "      display: none;\n",
              "      fill: #1967D2;\n",
              "      height: 32px;\n",
              "      padding: 0 0 0 0;\n",
              "      width: 32px;\n",
              "    }\n",
              "\n",
              "    .colab-df-convert:hover {\n",
              "      background-color: #E2EBFA;\n",
              "      box-shadow: 0px 1px 2px rgba(60, 64, 67, 0.3), 0px 1px 3px 1px rgba(60, 64, 67, 0.15);\n",
              "      fill: #174EA6;\n",
              "    }\n",
              "\n",
              "    [theme=dark] .colab-df-convert {\n",
              "      background-color: #3B4455;\n",
              "      fill: #D2E3FC;\n",
              "    }\n",
              "\n",
              "    [theme=dark] .colab-df-convert:hover {\n",
              "      background-color: #434B5C;\n",
              "      box-shadow: 0px 1px 3px 1px rgba(0, 0, 0, 0.15);\n",
              "      filter: drop-shadow(0px 1px 2px rgba(0, 0, 0, 0.3));\n",
              "      fill: #FFFFFF;\n",
              "    }\n",
              "  </style>\n",
              "\n",
              "      <script>\n",
              "        const buttonEl =\n",
              "          document.querySelector('#df-9215bc96-8f8d-45f0-9760-2feeab9f2983 button.colab-df-convert');\n",
              "        buttonEl.style.display =\n",
              "          google.colab.kernel.accessAllowed ? 'block' : 'none';\n",
              "\n",
              "        async function convertToInteractive(key) {\n",
              "          const element = document.querySelector('#df-9215bc96-8f8d-45f0-9760-2feeab9f2983');\n",
              "          const dataTable =\n",
              "            await google.colab.kernel.invokeFunction('convertToInteractive',\n",
              "                                                     [key], {});\n",
              "          if (!dataTable) return;\n",
              "\n",
              "          const docLinkHtml = 'Like what you see? Visit the ' +\n",
              "            '<a target=\"_blank\" href=https://colab.research.google.com/notebooks/data_table.ipynb>data table notebook</a>'\n",
              "            + ' to learn more about interactive tables.';\n",
              "          element.innerHTML = '';\n",
              "          dataTable['output_type'] = 'display_data';\n",
              "          await google.colab.output.renderOutput(dataTable, element);\n",
              "          const docLink = document.createElement('div');\n",
              "          docLink.innerHTML = docLinkHtml;\n",
              "          element.appendChild(docLink);\n",
              "        }\n",
              "      </script>\n",
              "    </div>\n",
              "  </div>\n",
              "  "
            ]
          },
          "metadata": {},
          "execution_count": 17
        }
      ]
    },
    {
      "cell_type": "code",
      "source": [
        "#Calculate the basic statical data-\n",
        "\n",
        "hoteldb.describe()"
      ],
      "metadata": {
        "id": "Indg_7NIIlTC",
        "colab": {
          "base_uri": "https://localhost:8080/",
          "height": 364
        },
        "outputId": "91e80b3f-b0b3-46f8-e524-933cf8212632"
      },
      "execution_count": 18,
      "outputs": [
        {
          "output_type": "execute_result",
          "data": {
            "text/plain": [
              "         is_canceled      lead_time  arrival_date_year  \\\n",
              "count  119390.000000  119390.000000      119390.000000   \n",
              "mean        0.370416     104.011416        2016.156554   \n",
              "std         0.482918     106.863097           0.707476   \n",
              "min         0.000000       0.000000        2015.000000   \n",
              "25%         0.000000      18.000000        2016.000000   \n",
              "50%         0.000000      69.000000        2016.000000   \n",
              "75%         1.000000     160.000000        2017.000000   \n",
              "max         1.000000     737.000000        2017.000000   \n",
              "\n",
              "       arrival_date_week_number  arrival_date_day_of_month  \\\n",
              "count             119390.000000              119390.000000   \n",
              "mean                  27.165173                  15.798241   \n",
              "std                   13.605138                   8.780829   \n",
              "min                    1.000000                   1.000000   \n",
              "25%                   16.000000                   8.000000   \n",
              "50%                   28.000000                  16.000000   \n",
              "75%                   38.000000                  23.000000   \n",
              "max                   53.000000                  31.000000   \n",
              "\n",
              "       stays_in_weekend_nights  stays_in_week_nights         adults  \\\n",
              "count            119390.000000         119390.000000  119390.000000   \n",
              "mean                  0.927599              2.500302       1.856403   \n",
              "std                   0.998613              1.908286       0.579261   \n",
              "min                   0.000000              0.000000       0.000000   \n",
              "25%                   0.000000              1.000000       2.000000   \n",
              "50%                   1.000000              2.000000       2.000000   \n",
              "75%                   2.000000              3.000000       2.000000   \n",
              "max                  19.000000             50.000000      55.000000   \n",
              "\n",
              "            children         babies  is_repeated_guest  \\\n",
              "count  119386.000000  119390.000000      119390.000000   \n",
              "mean        0.103890       0.007949           0.031912   \n",
              "std         0.398561       0.097436           0.175767   \n",
              "min         0.000000       0.000000           0.000000   \n",
              "25%         0.000000       0.000000           0.000000   \n",
              "50%         0.000000       0.000000           0.000000   \n",
              "75%         0.000000       0.000000           0.000000   \n",
              "max        10.000000      10.000000           1.000000   \n",
              "\n",
              "       previous_cancellations  previous_bookings_not_canceled  \\\n",
              "count           119390.000000                   119390.000000   \n",
              "mean                 0.087118                        0.137097   \n",
              "std                  0.844336                        1.497437   \n",
              "min                  0.000000                        0.000000   \n",
              "25%                  0.000000                        0.000000   \n",
              "50%                  0.000000                        0.000000   \n",
              "75%                  0.000000                        0.000000   \n",
              "max                 26.000000                       72.000000   \n",
              "\n",
              "       booking_changes          agent      company  days_in_waiting_list  \\\n",
              "count    119390.000000  103050.000000  6797.000000         119390.000000   \n",
              "mean          0.221124      86.693382   189.266735              2.321149   \n",
              "std           0.652306     110.774548   131.655015             17.594721   \n",
              "min           0.000000       1.000000     6.000000              0.000000   \n",
              "25%           0.000000       9.000000    62.000000              0.000000   \n",
              "50%           0.000000      14.000000   179.000000              0.000000   \n",
              "75%           0.000000     229.000000   270.000000              0.000000   \n",
              "max          21.000000     535.000000   543.000000            391.000000   \n",
              "\n",
              "                 adr  required_car_parking_spaces  total_of_special_requests  \n",
              "count  119390.000000                119390.000000              119390.000000  \n",
              "mean      101.831122                     0.062518                   0.571363  \n",
              "std        50.535790                     0.245291                   0.792798  \n",
              "min        -6.380000                     0.000000                   0.000000  \n",
              "25%        69.290000                     0.000000                   0.000000  \n",
              "50%        94.575000                     0.000000                   0.000000  \n",
              "75%       126.000000                     0.000000                   1.000000  \n",
              "max      5400.000000                     8.000000                   5.000000  "
            ],
            "text/html": [
              "\n",
              "  <div id=\"df-e97e95c7-7c6c-4a87-90f6-b4b30348d4a1\">\n",
              "    <div class=\"colab-df-container\">\n",
              "      <div>\n",
              "<style scoped>\n",
              "    .dataframe tbody tr th:only-of-type {\n",
              "        vertical-align: middle;\n",
              "    }\n",
              "\n",
              "    .dataframe tbody tr th {\n",
              "        vertical-align: top;\n",
              "    }\n",
              "\n",
              "    .dataframe thead th {\n",
              "        text-align: right;\n",
              "    }\n",
              "</style>\n",
              "<table border=\"1\" class=\"dataframe\">\n",
              "  <thead>\n",
              "    <tr style=\"text-align: right;\">\n",
              "      <th></th>\n",
              "      <th>is_canceled</th>\n",
              "      <th>lead_time</th>\n",
              "      <th>arrival_date_year</th>\n",
              "      <th>arrival_date_week_number</th>\n",
              "      <th>arrival_date_day_of_month</th>\n",
              "      <th>stays_in_weekend_nights</th>\n",
              "      <th>stays_in_week_nights</th>\n",
              "      <th>adults</th>\n",
              "      <th>children</th>\n",
              "      <th>babies</th>\n",
              "      <th>is_repeated_guest</th>\n",
              "      <th>previous_cancellations</th>\n",
              "      <th>previous_bookings_not_canceled</th>\n",
              "      <th>booking_changes</th>\n",
              "      <th>agent</th>\n",
              "      <th>company</th>\n",
              "      <th>days_in_waiting_list</th>\n",
              "      <th>adr</th>\n",
              "      <th>required_car_parking_spaces</th>\n",
              "      <th>total_of_special_requests</th>\n",
              "    </tr>\n",
              "  </thead>\n",
              "  <tbody>\n",
              "    <tr>\n",
              "      <th>count</th>\n",
              "      <td>119390.000000</td>\n",
              "      <td>119390.000000</td>\n",
              "      <td>119390.000000</td>\n",
              "      <td>119390.000000</td>\n",
              "      <td>119390.000000</td>\n",
              "      <td>119390.000000</td>\n",
              "      <td>119390.000000</td>\n",
              "      <td>119390.000000</td>\n",
              "      <td>119386.000000</td>\n",
              "      <td>119390.000000</td>\n",
              "      <td>119390.000000</td>\n",
              "      <td>119390.000000</td>\n",
              "      <td>119390.000000</td>\n",
              "      <td>119390.000000</td>\n",
              "      <td>103050.000000</td>\n",
              "      <td>6797.000000</td>\n",
              "      <td>119390.000000</td>\n",
              "      <td>119390.000000</td>\n",
              "      <td>119390.000000</td>\n",
              "      <td>119390.000000</td>\n",
              "    </tr>\n",
              "    <tr>\n",
              "      <th>mean</th>\n",
              "      <td>0.370416</td>\n",
              "      <td>104.011416</td>\n",
              "      <td>2016.156554</td>\n",
              "      <td>27.165173</td>\n",
              "      <td>15.798241</td>\n",
              "      <td>0.927599</td>\n",
              "      <td>2.500302</td>\n",
              "      <td>1.856403</td>\n",
              "      <td>0.103890</td>\n",
              "      <td>0.007949</td>\n",
              "      <td>0.031912</td>\n",
              "      <td>0.087118</td>\n",
              "      <td>0.137097</td>\n",
              "      <td>0.221124</td>\n",
              "      <td>86.693382</td>\n",
              "      <td>189.266735</td>\n",
              "      <td>2.321149</td>\n",
              "      <td>101.831122</td>\n",
              "      <td>0.062518</td>\n",
              "      <td>0.571363</td>\n",
              "    </tr>\n",
              "    <tr>\n",
              "      <th>std</th>\n",
              "      <td>0.482918</td>\n",
              "      <td>106.863097</td>\n",
              "      <td>0.707476</td>\n",
              "      <td>13.605138</td>\n",
              "      <td>8.780829</td>\n",
              "      <td>0.998613</td>\n",
              "      <td>1.908286</td>\n",
              "      <td>0.579261</td>\n",
              "      <td>0.398561</td>\n",
              "      <td>0.097436</td>\n",
              "      <td>0.175767</td>\n",
              "      <td>0.844336</td>\n",
              "      <td>1.497437</td>\n",
              "      <td>0.652306</td>\n",
              "      <td>110.774548</td>\n",
              "      <td>131.655015</td>\n",
              "      <td>17.594721</td>\n",
              "      <td>50.535790</td>\n",
              "      <td>0.245291</td>\n",
              "      <td>0.792798</td>\n",
              "    </tr>\n",
              "    <tr>\n",
              "      <th>min</th>\n",
              "      <td>0.000000</td>\n",
              "      <td>0.000000</td>\n",
              "      <td>2015.000000</td>\n",
              "      <td>1.000000</td>\n",
              "      <td>1.000000</td>\n",
              "      <td>0.000000</td>\n",
              "      <td>0.000000</td>\n",
              "      <td>0.000000</td>\n",
              "      <td>0.000000</td>\n",
              "      <td>0.000000</td>\n",
              "      <td>0.000000</td>\n",
              "      <td>0.000000</td>\n",
              "      <td>0.000000</td>\n",
              "      <td>0.000000</td>\n",
              "      <td>1.000000</td>\n",
              "      <td>6.000000</td>\n",
              "      <td>0.000000</td>\n",
              "      <td>-6.380000</td>\n",
              "      <td>0.000000</td>\n",
              "      <td>0.000000</td>\n",
              "    </tr>\n",
              "    <tr>\n",
              "      <th>25%</th>\n",
              "      <td>0.000000</td>\n",
              "      <td>18.000000</td>\n",
              "      <td>2016.000000</td>\n",
              "      <td>16.000000</td>\n",
              "      <td>8.000000</td>\n",
              "      <td>0.000000</td>\n",
              "      <td>1.000000</td>\n",
              "      <td>2.000000</td>\n",
              "      <td>0.000000</td>\n",
              "      <td>0.000000</td>\n",
              "      <td>0.000000</td>\n",
              "      <td>0.000000</td>\n",
              "      <td>0.000000</td>\n",
              "      <td>0.000000</td>\n",
              "      <td>9.000000</td>\n",
              "      <td>62.000000</td>\n",
              "      <td>0.000000</td>\n",
              "      <td>69.290000</td>\n",
              "      <td>0.000000</td>\n",
              "      <td>0.000000</td>\n",
              "    </tr>\n",
              "    <tr>\n",
              "      <th>50%</th>\n",
              "      <td>0.000000</td>\n",
              "      <td>69.000000</td>\n",
              "      <td>2016.000000</td>\n",
              "      <td>28.000000</td>\n",
              "      <td>16.000000</td>\n",
              "      <td>1.000000</td>\n",
              "      <td>2.000000</td>\n",
              "      <td>2.000000</td>\n",
              "      <td>0.000000</td>\n",
              "      <td>0.000000</td>\n",
              "      <td>0.000000</td>\n",
              "      <td>0.000000</td>\n",
              "      <td>0.000000</td>\n",
              "      <td>0.000000</td>\n",
              "      <td>14.000000</td>\n",
              "      <td>179.000000</td>\n",
              "      <td>0.000000</td>\n",
              "      <td>94.575000</td>\n",
              "      <td>0.000000</td>\n",
              "      <td>0.000000</td>\n",
              "    </tr>\n",
              "    <tr>\n",
              "      <th>75%</th>\n",
              "      <td>1.000000</td>\n",
              "      <td>160.000000</td>\n",
              "      <td>2017.000000</td>\n",
              "      <td>38.000000</td>\n",
              "      <td>23.000000</td>\n",
              "      <td>2.000000</td>\n",
              "      <td>3.000000</td>\n",
              "      <td>2.000000</td>\n",
              "      <td>0.000000</td>\n",
              "      <td>0.000000</td>\n",
              "      <td>0.000000</td>\n",
              "      <td>0.000000</td>\n",
              "      <td>0.000000</td>\n",
              "      <td>0.000000</td>\n",
              "      <td>229.000000</td>\n",
              "      <td>270.000000</td>\n",
              "      <td>0.000000</td>\n",
              "      <td>126.000000</td>\n",
              "      <td>0.000000</td>\n",
              "      <td>1.000000</td>\n",
              "    </tr>\n",
              "    <tr>\n",
              "      <th>max</th>\n",
              "      <td>1.000000</td>\n",
              "      <td>737.000000</td>\n",
              "      <td>2017.000000</td>\n",
              "      <td>53.000000</td>\n",
              "      <td>31.000000</td>\n",
              "      <td>19.000000</td>\n",
              "      <td>50.000000</td>\n",
              "      <td>55.000000</td>\n",
              "      <td>10.000000</td>\n",
              "      <td>10.000000</td>\n",
              "      <td>1.000000</td>\n",
              "      <td>26.000000</td>\n",
              "      <td>72.000000</td>\n",
              "      <td>21.000000</td>\n",
              "      <td>535.000000</td>\n",
              "      <td>543.000000</td>\n",
              "      <td>391.000000</td>\n",
              "      <td>5400.000000</td>\n",
              "      <td>8.000000</td>\n",
              "      <td>5.000000</td>\n",
              "    </tr>\n",
              "  </tbody>\n",
              "</table>\n",
              "</div>\n",
              "      <button class=\"colab-df-convert\" onclick=\"convertToInteractive('df-e97e95c7-7c6c-4a87-90f6-b4b30348d4a1')\"\n",
              "              title=\"Convert this dataframe to an interactive table.\"\n",
              "              style=\"display:none;\">\n",
              "        \n",
              "  <svg xmlns=\"http://www.w3.org/2000/svg\" height=\"24px\"viewBox=\"0 0 24 24\"\n",
              "       width=\"24px\">\n",
              "    <path d=\"M0 0h24v24H0V0z\" fill=\"none\"/>\n",
              "    <path d=\"M18.56 5.44l.94 2.06.94-2.06 2.06-.94-2.06-.94-.94-2.06-.94 2.06-2.06.94zm-11 1L8.5 8.5l.94-2.06 2.06-.94-2.06-.94L8.5 2.5l-.94 2.06-2.06.94zm10 10l.94 2.06.94-2.06 2.06-.94-2.06-.94-.94-2.06-.94 2.06-2.06.94z\"/><path d=\"M17.41 7.96l-1.37-1.37c-.4-.4-.92-.59-1.43-.59-.52 0-1.04.2-1.43.59L10.3 9.45l-7.72 7.72c-.78.78-.78 2.05 0 2.83L4 21.41c.39.39.9.59 1.41.59.51 0 1.02-.2 1.41-.59l7.78-7.78 2.81-2.81c.8-.78.8-2.07 0-2.86zM5.41 20L4 18.59l7.72-7.72 1.47 1.35L5.41 20z\"/>\n",
              "  </svg>\n",
              "      </button>\n",
              "      \n",
              "  <style>\n",
              "    .colab-df-container {\n",
              "      display:flex;\n",
              "      flex-wrap:wrap;\n",
              "      gap: 12px;\n",
              "    }\n",
              "\n",
              "    .colab-df-convert {\n",
              "      background-color: #E8F0FE;\n",
              "      border: none;\n",
              "      border-radius: 50%;\n",
              "      cursor: pointer;\n",
              "      display: none;\n",
              "      fill: #1967D2;\n",
              "      height: 32px;\n",
              "      padding: 0 0 0 0;\n",
              "      width: 32px;\n",
              "    }\n",
              "\n",
              "    .colab-df-convert:hover {\n",
              "      background-color: #E2EBFA;\n",
              "      box-shadow: 0px 1px 2px rgba(60, 64, 67, 0.3), 0px 1px 3px 1px rgba(60, 64, 67, 0.15);\n",
              "      fill: #174EA6;\n",
              "    }\n",
              "\n",
              "    [theme=dark] .colab-df-convert {\n",
              "      background-color: #3B4455;\n",
              "      fill: #D2E3FC;\n",
              "    }\n",
              "\n",
              "    [theme=dark] .colab-df-convert:hover {\n",
              "      background-color: #434B5C;\n",
              "      box-shadow: 0px 1px 3px 1px rgba(0, 0, 0, 0.15);\n",
              "      filter: drop-shadow(0px 1px 2px rgba(0, 0, 0, 0.3));\n",
              "      fill: #FFFFFF;\n",
              "    }\n",
              "  </style>\n",
              "\n",
              "      <script>\n",
              "        const buttonEl =\n",
              "          document.querySelector('#df-e97e95c7-7c6c-4a87-90f6-b4b30348d4a1 button.colab-df-convert');\n",
              "        buttonEl.style.display =\n",
              "          google.colab.kernel.accessAllowed ? 'block' : 'none';\n",
              "\n",
              "        async function convertToInteractive(key) {\n",
              "          const element = document.querySelector('#df-e97e95c7-7c6c-4a87-90f6-b4b30348d4a1');\n",
              "          const dataTable =\n",
              "            await google.colab.kernel.invokeFunction('convertToInteractive',\n",
              "                                                     [key], {});\n",
              "          if (!dataTable) return;\n",
              "\n",
              "          const docLinkHtml = 'Like what you see? Visit the ' +\n",
              "            '<a target=\"_blank\" href=https://colab.research.google.com/notebooks/data_table.ipynb>data table notebook</a>'\n",
              "            + ' to learn more about interactive tables.';\n",
              "          element.innerHTML = '';\n",
              "          dataTable['output_type'] = 'display_data';\n",
              "          await google.colab.output.renderOutput(dataTable, element);\n",
              "          const docLink = document.createElement('div');\n",
              "          docLink.innerHTML = docLinkHtml;\n",
              "          element.appendChild(docLink);\n",
              "        }\n",
              "      </script>\n",
              "    </div>\n",
              "  </div>\n",
              "  "
            ]
          },
          "metadata": {},
          "execution_count": 18
        }
      ]
    },
    {
      "cell_type": "code",
      "source": [
        "#List of Columns-\n",
        "\n",
        "list(hoteldb.columns)"
      ],
      "metadata": {
        "id": "bAmokJtJIlVP",
        "colab": {
          "base_uri": "https://localhost:8080/"
        },
        "outputId": "82aa0c45-6a48-4d84-9ff7-86f1fea0a114"
      },
      "execution_count": 19,
      "outputs": [
        {
          "output_type": "execute_result",
          "data": {
            "text/plain": [
              "['hotel',\n",
              " 'is_canceled',\n",
              " 'lead_time',\n",
              " 'arrival_date_year',\n",
              " 'arrival_date_month',\n",
              " 'arrival_date_week_number',\n",
              " 'arrival_date_day_of_month',\n",
              " 'stays_in_weekend_nights',\n",
              " 'stays_in_week_nights',\n",
              " 'adults',\n",
              " 'children',\n",
              " 'babies',\n",
              " 'meal',\n",
              " 'country',\n",
              " 'market_segment',\n",
              " 'distribution_channel',\n",
              " 'is_repeated_guest',\n",
              " 'previous_cancellations',\n",
              " 'previous_bookings_not_canceled',\n",
              " 'reserved_room_type',\n",
              " 'assigned_room_type',\n",
              " 'booking_changes',\n",
              " 'deposit_type',\n",
              " 'agent',\n",
              " 'company',\n",
              " 'days_in_waiting_list',\n",
              " 'customer_type',\n",
              " 'adr',\n",
              " 'required_car_parking_spaces',\n",
              " 'total_of_special_requests',\n",
              " 'reservation_status',\n",
              " 'reservation_status_date']"
            ]
          },
          "metadata": {},
          "execution_count": 19
        }
      ]
    },
    {
      "cell_type": "code",
      "source": [
        "#Prints number of columns, column labels, column data types, memory usage, range index, and the number of cells in each column-\n",
        "\n",
        "hoteldb.info()"
      ],
      "metadata": {
        "id": "BmTrCMyhc-VY",
        "colab": {
          "base_uri": "https://localhost:8080/"
        },
        "outputId": "0f137ed8-4464-4694-cb2e-b04c0cd5c8eb"
      },
      "execution_count": 20,
      "outputs": [
        {
          "output_type": "stream",
          "name": "stdout",
          "text": [
            "<class 'pandas.core.frame.DataFrame'>\n",
            "RangeIndex: 119390 entries, 0 to 119389\n",
            "Data columns (total 32 columns):\n",
            " #   Column                          Non-Null Count   Dtype  \n",
            "---  ------                          --------------   -----  \n",
            " 0   hotel                           119390 non-null  object \n",
            " 1   is_canceled                     119390 non-null  int64  \n",
            " 2   lead_time                       119390 non-null  int64  \n",
            " 3   arrival_date_year               119390 non-null  int64  \n",
            " 4   arrival_date_month              119390 non-null  object \n",
            " 5   arrival_date_week_number        119390 non-null  int64  \n",
            " 6   arrival_date_day_of_month       119390 non-null  int64  \n",
            " 7   stays_in_weekend_nights         119390 non-null  int64  \n",
            " 8   stays_in_week_nights            119390 non-null  int64  \n",
            " 9   adults                          119390 non-null  int64  \n",
            " 10  children                        119386 non-null  float64\n",
            " 11  babies                          119390 non-null  int64  \n",
            " 12  meal                            119390 non-null  object \n",
            " 13  country                         118902 non-null  object \n",
            " 14  market_segment                  119390 non-null  object \n",
            " 15  distribution_channel            119390 non-null  object \n",
            " 16  is_repeated_guest               119390 non-null  int64  \n",
            " 17  previous_cancellations          119390 non-null  int64  \n",
            " 18  previous_bookings_not_canceled  119390 non-null  int64  \n",
            " 19  reserved_room_type              119390 non-null  object \n",
            " 20  assigned_room_type              119390 non-null  object \n",
            " 21  booking_changes                 119390 non-null  int64  \n",
            " 22  deposit_type                    119390 non-null  object \n",
            " 23  agent                           103050 non-null  float64\n",
            " 24  company                         6797 non-null    float64\n",
            " 25  days_in_waiting_list            119390 non-null  int64  \n",
            " 26  customer_type                   119390 non-null  object \n",
            " 27  adr                             119390 non-null  float64\n",
            " 28  required_car_parking_spaces     119390 non-null  int64  \n",
            " 29  total_of_special_requests       119390 non-null  int64  \n",
            " 30  reservation_status              119390 non-null  object \n",
            " 31  reservation_status_date         119390 non-null  object \n",
            "dtypes: float64(4), int64(16), object(12)\n",
            "memory usage: 29.1+ MB\n"
          ]
        }
      ]
    },
    {
      "cell_type": "code",
      "source": [
        "#Check data types-\n",
        "\n",
        "hoteldb.dtypes"
      ],
      "metadata": {
        "id": "4g7PRG-EIlbj",
        "colab": {
          "base_uri": "https://localhost:8080/"
        },
        "outputId": "ad534889-da60-41ef-d8b5-dffd73b37860"
      },
      "execution_count": 21,
      "outputs": [
        {
          "output_type": "execute_result",
          "data": {
            "text/plain": [
              "hotel                              object\n",
              "is_canceled                         int64\n",
              "lead_time                           int64\n",
              "arrival_date_year                   int64\n",
              "arrival_date_month                 object\n",
              "arrival_date_week_number            int64\n",
              "arrival_date_day_of_month           int64\n",
              "stays_in_weekend_nights             int64\n",
              "stays_in_week_nights                int64\n",
              "adults                              int64\n",
              "children                          float64\n",
              "babies                              int64\n",
              "meal                               object\n",
              "country                            object\n",
              "market_segment                     object\n",
              "distribution_channel               object\n",
              "is_repeated_guest                   int64\n",
              "previous_cancellations              int64\n",
              "previous_bookings_not_canceled      int64\n",
              "reserved_room_type                 object\n",
              "assigned_room_type                 object\n",
              "booking_changes                     int64\n",
              "deposit_type                       object\n",
              "agent                             float64\n",
              "company                           float64\n",
              "days_in_waiting_list                int64\n",
              "customer_type                      object\n",
              "adr                               float64\n",
              "required_car_parking_spaces         int64\n",
              "total_of_special_requests           int64\n",
              "reservation_status                 object\n",
              "reservation_status_date            object\n",
              "dtype: object"
            ]
          },
          "metadata": {},
          "execution_count": 21
        }
      ]
    },
    {
      "cell_type": "markdown",
      "source": [
        "# **Conversion of Data Type.**"
      ],
      "metadata": {
        "id": "hY_nTAOoXwZj"
      }
    },
    {
      "cell_type": "markdown",
      "source": [
        "# **For Checking Unique Contents**"
      ],
      "metadata": {
        "id": "1xggew12LSVV"
      }
    },
    {
      "cell_type": "code",
      "source": [
        "hoteldb['hotel'].unique()"
      ],
      "metadata": {
        "id": "5E4Ok36hSUBU",
        "colab": {
          "base_uri": "https://localhost:8080/"
        },
        "outputId": "b83be51a-06dd-493e-bfea-49294759ee32"
      },
      "execution_count": 24,
      "outputs": [
        {
          "output_type": "execute_result",
          "data": {
            "text/plain": [
              "array(['Resort Hotel', 'City Hotel'], dtype=object)"
            ]
          },
          "metadata": {},
          "execution_count": 24
        }
      ]
    },
    {
      "cell_type": "code",
      "source": [
        "hoteldb['is_canceled'].unique()"
      ],
      "metadata": {
        "id": "SJmxoQTar1BW",
        "colab": {
          "base_uri": "https://localhost:8080/"
        },
        "outputId": "89a6e37d-10e4-4044-b383-80391e021b90"
      },
      "execution_count": 25,
      "outputs": [
        {
          "output_type": "execute_result",
          "data": {
            "text/plain": [
              "array([0, 1])"
            ]
          },
          "metadata": {},
          "execution_count": 25
        }
      ]
    },
    {
      "cell_type": "code",
      "source": [
        "hoteldb['arrival_date_year'].unique()"
      ],
      "metadata": {
        "id": "ppXVKkcxsGJh",
        "colab": {
          "base_uri": "https://localhost:8080/"
        },
        "outputId": "549e4727-6a82-4ef5-da21-1b0df13d44fe"
      },
      "execution_count": 26,
      "outputs": [
        {
          "output_type": "execute_result",
          "data": {
            "text/plain": [
              "array([2015, 2016, 2017])"
            ]
          },
          "metadata": {},
          "execution_count": 26
        }
      ]
    },
    {
      "cell_type": "code",
      "source": [
        "hoteldb['meal'].unique()"
      ],
      "metadata": {
        "id": "ae-r_RijsMKm",
        "colab": {
          "base_uri": "https://localhost:8080/"
        },
        "outputId": "0550c6c4-5844-41fc-83d0-e9dc2778dc2b"
      },
      "execution_count": 27,
      "outputs": [
        {
          "output_type": "execute_result",
          "data": {
            "text/plain": [
              "array(['BB', 'FB', 'HB', 'SC', 'Undefined'], dtype=object)"
            ]
          },
          "metadata": {},
          "execution_count": 27
        }
      ]
    },
    {
      "cell_type": "code",
      "source": [
        "hoteldb['market_segment'].unique()"
      ],
      "metadata": {
        "id": "VJ_Yat_lsSId",
        "colab": {
          "base_uri": "https://localhost:8080/"
        },
        "outputId": "8eec5bac-f6f5-4086-f6e0-0a23ccd0bd86"
      },
      "execution_count": 28,
      "outputs": [
        {
          "output_type": "execute_result",
          "data": {
            "text/plain": [
              "array(['Direct', 'Corporate', 'Online TA', 'Offline TA/TO',\n",
              "       'Complementary', 'Groups', 'Undefined', 'Aviation'], dtype=object)"
            ]
          },
          "metadata": {},
          "execution_count": 28
        }
      ]
    },
    {
      "cell_type": "code",
      "source": [
        "hoteldb['distribution_channel'].unique()"
      ],
      "metadata": {
        "id": "U6t5_x5TsXBL",
        "colab": {
          "base_uri": "https://localhost:8080/"
        },
        "outputId": "36e4dd06-1813-479e-ed5d-385b6aff53f9"
      },
      "execution_count": 29,
      "outputs": [
        {
          "output_type": "execute_result",
          "data": {
            "text/plain": [
              "array(['Direct', 'Corporate', 'TA/TO', 'Undefined', 'GDS'], dtype=object)"
            ]
          },
          "metadata": {},
          "execution_count": 29
        }
      ]
    },
    {
      "cell_type": "code",
      "source": [
        "hoteldb['children'].unique()"
      ],
      "metadata": {
        "id": "nUDT1nnFsdEh",
        "colab": {
          "base_uri": "https://localhost:8080/"
        },
        "outputId": "ad41afea-5b65-49a2-8926-276cac5d1152"
      },
      "execution_count": 30,
      "outputs": [
        {
          "output_type": "execute_result",
          "data": {
            "text/plain": [
              "array([ 0.,  1.,  2., 10.,  3., nan])"
            ]
          },
          "metadata": {},
          "execution_count": 30
        }
      ]
    },
    {
      "cell_type": "markdown",
      "source": [
        "# **Now, we'll perform a quick check for missing/Null values**"
      ],
      "metadata": {
        "id": "0j70ce-Rd8mb"
      }
    },
    {
      "cell_type": "code",
      "source": [
        "#check for missing values\n",
        "\n",
        "hoteldb.isna().sum(axis = 0)"
      ],
      "metadata": {
        "id": "iOwSAH9GqllJ",
        "colab": {
          "base_uri": "https://localhost:8080/"
        },
        "outputId": "f55d3a17-35f8-45b6-9331-0b5bd57b2dd3"
      },
      "execution_count": 31,
      "outputs": [
        {
          "output_type": "execute_result",
          "data": {
            "text/plain": [
              "hotel                                  0\n",
              "is_canceled                            0\n",
              "lead_time                              0\n",
              "arrival_date_year                      0\n",
              "arrival_date_month                     0\n",
              "arrival_date_week_number               0\n",
              "arrival_date_day_of_month              0\n",
              "stays_in_weekend_nights                0\n",
              "stays_in_week_nights                   0\n",
              "adults                                 0\n",
              "children                               4\n",
              "babies                                 0\n",
              "meal                                   0\n",
              "country                              488\n",
              "market_segment                         0\n",
              "distribution_channel                   0\n",
              "is_repeated_guest                      0\n",
              "previous_cancellations                 0\n",
              "previous_bookings_not_canceled         0\n",
              "reserved_room_type                     0\n",
              "assigned_room_type                     0\n",
              "booking_changes                        0\n",
              "deposit_type                           0\n",
              "agent                              16340\n",
              "company                           112593\n",
              "days_in_waiting_list                   0\n",
              "customer_type                          0\n",
              "adr                                    0\n",
              "required_car_parking_spaces            0\n",
              "total_of_special_requests              0\n",
              "reservation_status                     0\n",
              "reservation_status_date                0\n",
              "dtype: int64"
            ]
          },
          "metadata": {},
          "execution_count": 31
        }
      ]
    },
    {
      "cell_type": "code",
      "source": [
        "# visualize missing value using heatmap to get idea where is the value missing\n",
        "\n",
        "plt.figure(figsize=(16,9))\n",
        "sns.heatmap(hoteldb.isnull())"
      ],
      "metadata": {
        "id": "JV_0-p04KwGL",
        "colab": {
          "base_uri": "https://localhost:8080/",
          "height": 713
        },
        "outputId": "a25564fd-0ef4-4d91-8a9a-609d2f4c3a03"
      },
      "execution_count": 32,
      "outputs": [
        {
          "output_type": "execute_result",
          "data": {
            "text/plain": [
              "<matplotlib.axes._subplots.AxesSubplot at 0x7f9172db1890>"
            ]
          },
          "metadata": {},
          "execution_count": 32
        },
        {
          "output_type": "display_data",
          "data": {
            "text/plain": [
              "<Figure size 1152x648 with 2 Axes>"
            ],
            "image/png": "[encoded data removed]"
          },
          "metadata": {
            "needs_background": "light"
          }
        }
      ]
    },
    {
      "cell_type": "markdown",
      "source": [
        "## ***Since, we can see agent, company and country are having most null values, we'll check what's in them.***"
      ],
      "metadata": {
        "id": "nSN0TfwqeUhB"
      }
    },
    {
      "cell_type": "code",
      "source": [
        "#checking contents of agent column\n",
        "\n",
        "agentlist = hoteldb['agent'].tolist()\n",
        "#list(agentlist) #remove # to view its contents"
      ],
      "metadata": {
        "id": "pcNaK3ORfXsw"
      },
      "execution_count": 33,
      "outputs": []
    },
    {
      "cell_type": "code",
      "source": [
        "#checking contents of company column\n",
        "\n",
        "companylist = hoteldb['company'].tolist()\n",
        "#list(companylist) #remove # to view its contents"
      ],
      "metadata": {
        "id": "GTCn8cA5gEHq"
      },
      "execution_count": 34,
      "outputs": []
    },
    {
      "cell_type": "code",
      "source": [
        "#checking contents of country column\n",
        "\n",
        "countrylist = hoteldb['country'].tolist()\n",
        "#list(countrylist) #remove # to view its contents"
      ],
      "metadata": {
        "id": "7a8N3R3TgV2o"
      },
      "execution_count": 35,
      "outputs": []
    },
    {
      "cell_type": "markdown",
      "source": [
        "## ***From the above data, it is clear that we won't be requiring agent and company data but we need country data and NULL values within it needs to be taken care of. So we'll be doing proper CLEANSING of data.***"
      ],
      "metadata": {
        "id": "JELtrmuWg6-B"
      }
    },
    {
      "cell_type": "code",
      "source": [
        "#Removing company and agent column\n",
        "\n",
        "hoteldb= hoteldb.drop(columns=['agent', 'company'])\n",
        "\n",
        "#Removing missing values\n",
        "\n",
        "hoteldb = hoteldb.dropna()\n",
        "print(hoteldb.isna().sum(axis=0))"
      ],
      "metadata": {
        "id": "4ZwDJgpNq_4a",
        "colab": {
          "base_uri": "https://localhost:8080/"
        },
        "outputId": "187b77ba-ec1c-440a-9319-f4a837a28041"
      },
      "execution_count": 36,
      "outputs": [
        {
          "output_type": "stream",
          "name": "stdout",
          "text": [
            "hotel                             0\n",
            "is_canceled                       0\n",
            "lead_time                         0\n",
            "arrival_date_year                 0\n",
            "arrival_date_month                0\n",
            "arrival_date_week_number          0\n",
            "arrival_date_day_of_month         0\n",
            "stays_in_weekend_nights           0\n",
            "stays_in_week_nights              0\n",
            "adults                            0\n",
            "children                          0\n",
            "babies                            0\n",
            "meal                              0\n",
            "country                           0\n",
            "market_segment                    0\n",
            "distribution_channel              0\n",
            "is_repeated_guest                 0\n",
            "previous_cancellations            0\n",
            "previous_bookings_not_canceled    0\n",
            "reserved_room_type                0\n",
            "assigned_room_type                0\n",
            "booking_changes                   0\n",
            "deposit_type                      0\n",
            "days_in_waiting_list              0\n",
            "customer_type                     0\n",
            "adr                               0\n",
            "required_car_parking_spaces       0\n",
            "total_of_special_requests         0\n",
            "reservation_status                0\n",
            "reservation_status_date           0\n",
            "dtype: int64\n"
          ]
        }
      ]
    },
    {
      "cell_type": "code",
      "source": [
        "# converting all the null values to 0 for proper analysis\n",
        "\n",
        "df = hoteldb.fillna(0)"
      ],
      "metadata": {
        "id": "D2EjOaovGM_G"
      },
      "execution_count": 40,
      "outputs": []
    },
    {
      "cell_type": "code",
      "source": [
        "# how many null values left(will be depicted by 0)\n",
        "\n",
        "df.isnull().sum()"
      ],
      "metadata": {
        "id": "WQA3b65FGRMO",
        "colab": {
          "base_uri": "https://localhost:8080/"
        },
        "outputId": "a522faba-bed5-4396-a993-842f4f976055"
      },
      "execution_count": 39,
      "outputs": [
        {
          "output_type": "execute_result",
          "data": {
            "text/plain": [
              "hotel                             0\n",
              "is_canceled                       0\n",
              "lead_time                         0\n",
              "arrival_date_year                 0\n",
              "arrival_date_month                0\n",
              "arrival_date_week_number          0\n",
              "arrival_date_day_of_month         0\n",
              "stays_in_weekend_nights           0\n",
              "stays_in_week_nights              0\n",
              "adults                            0\n",
              "children                          0\n",
              "babies                            0\n",
              "meal                              0\n",
              "country                           0\n",
              "market_segment                    0\n",
              "distribution_channel              0\n",
              "is_repeated_guest                 0\n",
              "previous_cancellations            0\n",
              "previous_bookings_not_canceled    0\n",
              "reserved_room_type                0\n",
              "assigned_room_type                0\n",
              "booking_changes                   0\n",
              "deposit_type                      0\n",
              "days_in_waiting_list              0\n",
              "customer_type                     0\n",
              "adr                               0\n",
              "required_car_parking_spaces       0\n",
              "total_of_special_requests         0\n",
              "reservation_status                0\n",
              "reservation_status_date           0\n",
              "dtype: int64"
            ]
          },
          "metadata": {},
          "execution_count": 39
        }
      ]
    },
    {
      "cell_type": "code",
      "source": [
        "# in country column, we need to replace zeros with something more adequate\n",
        "\n",
        "hoteldb.country = hoteldb.country.replace(0, \"not mentioned\")"
      ],
      "metadata": {
        "id": "o9xLV5vwGm--"
      },
      "execution_count": 41,
      "outputs": []
    },
    {
      "cell_type": "markdown",
      "source": [
        "# **NOW WE HAVE CLEAN DATA FOR PROPER EDA**"
      ],
      "metadata": {
        "id": "ckFhckqZjjnh"
      }
    },
    {
      "cell_type": "markdown",
      "source": [
        "## **Let's get basic idea of statistics through visualization**"
      ],
      "metadata": {
        "id": "vC31CdpJoUSp"
      }
    },
    {
      "cell_type": "markdown",
      "source": [
        "# **Univariate Analysis :**\n",
        "In Univariate Analysis, we choose a \n",
        "single feature from the data and try \n",
        "to determine what the output or the target value is ,i.e., one \n",
        "feature/variable at a time.\n"
      ],
      "metadata": {
        "id": "FWDyevIMeZOY"
      }
    },
    {
      "cell_type": "markdown",
      "source": [
        "## ***1]*** ***which type of Hotel is mostly Preferred by the Guests?***"
      ],
      "metadata": {
        "id": "-5-UQZ7tgPXZ"
      }
    },
    {
      "cell_type": "code",
      "source": [
        "#bookings statistics of both hotels.\n",
        "\n",
        "df=hoteldb['hotel'].value_counts()\n",
        "df.plot(kind='bar',width=.4 ,color=['black','blue'],figsize = (10, 5))\n",
        "plt.xlabel(\"Type of hotel\")\n",
        "plt.ylabel(\"No. of bookings\")\n",
        "plt.title(\"Bookings ratio\")\n",
        "plt.show()"
      ],
      "metadata": {
        "id": "g0zAFPddqeop"
      },
      "execution_count": null,
      "outputs": []
    },
    {
      "cell_type": "code",
      "source": [
        "#Visualizng by the Pie Chart.\n",
        "\n",
        "dff=hoteldb['hotel'].value_counts()\n",
        "diagram=dff.plot(kind='pie',explode=[0.05,0.05],subplots=True, shadow = True,startangle=90,figsize=(10,7), autopct='%1.1f%%', colors = ['yellow', 'red'],title = 'Percentage of guests in both hotels' )\n"
      ],
      "metadata": {
        "id": "V2p7UUuvnS66"
      },
      "execution_count": null,
      "outputs": []
    },
    {
      "cell_type": "markdown",
      "source": [
        "## ***Observation***\n",
        "\n",
        "### ***City Hotel is most preferred hotel by guests. Thus city hotels has maximum bookings.***\n",
        "\n"
      ],
      "metadata": {
        "id": "wlYSMg2AiGup"
      }
    },
    {
      "cell_type": "markdown",
      "source": [
        "## ***2] Adults traveling with kids or without kids?***"
      ],
      "metadata": {
        "id": "LjtADG8qsCbK"
      }
    },
    {
      "cell_type": "code",
      "source": [
        "#Visualizng by the Pie Chart.\n",
        "hoteldb['children'].value_counts\n",
        "x = [\"with kids\", \"without kids\"]\n",
        "y = [hoteldb[(hoteldb.children != 0) | (hoteldb.babies != 0)][\"adults\"].count(), hoteldb[(hoteldb.children == 0) | (hoteldb.babies == 0)][\"adults\"].count()]\n",
        "\n",
        "\n",
        "\n",
        "fig = plt.figure(figsize =(10, 7))\n",
        "colors = sns.color_palette('bright')\n",
        "plt.pie(y, labels = x, colors = colors)\n",
        "plt.title(\"Kids vs Without kids\")\n",
        "plt.show()"
      ],
      "metadata": {
        "id": "pjF7D5SiIJHf"
      },
      "execution_count": null,
      "outputs": []
    },
    {
      "cell_type": "markdown",
      "source": [
        "## ***Observation***\n",
        "### ***The Guests visit in the hotel without kids is more than with kids.***"
      ],
      "metadata": {
        "id": "Zb0GBNk2eLet"
      }
    },
    {
      "cell_type": "markdown",
      "source": [
        "## ***3] What are the most preferred Distribution channel for booking hotels?***"
      ],
      "metadata": {
        "id": "-eQYB2zUzFKS"
      }
    },
    {
      "cell_type": "code",
      "source": [
        "# Visualizsing the by pie chart.\n",
        "\n",
        "#Creating labels.\n",
        "labels=hoteldb['distribution_channel'].value_counts().index.tolist()\n",
        "\n",
        "\n",
        "\n",
        "# creating new df of distribution channel.\n",
        "distribution_channel_df=hoteldb['distribution_channel'].value_counts().reset_index().rename(columns={'index':\"distribution_channel\",'distribution_channel':'count'})\n",
        "\n",
        "\n",
        "\n",
        "#adding percentage columns to the distribution_channel_df.\n",
        "distribution_channel_df['percentage']=round(distribution_channel_df['count']*100/hoteldb.shape[0],1)\n",
        "\n",
        "\n",
        "\n",
        "#Creating list of percentage.\n",
        "sizes=distribution_channel_df['percentage'].values.tolist()\n",
        "\n",
        "\n",
        "\n",
        "#plotting the pie chart.\n",
        "hoteldb['distribution_channel'].value_counts().plot.pie(explode=[0.05, 0.05,0.05,0.05,0.05], shadow=False, figsize=(15,8),fontsize=10,labels=None)   \n",
        "\n",
        "\n",
        "\n",
        "# setting legends with the percentage values.\n",
        "labels = [f'{l}, {s}%' for l, s in zip(labels, sizes)]\n",
        "plt.legend(bbox_to_anchor=(0.85, 1), loc='upper left', labels=labels)\n",
        "plt.title(' Mostly Used Distribution Channel for Hotel Bookings ')"
      ],
      "metadata": {
        "id": "76Rgw4yGeHtK"
      },
      "execution_count": null,
      "outputs": []
    },
    {
      "cell_type": "markdown",
      "source": [
        "### ***Observation***\n",
        "## ***'TA/TO' is mostly(79.1%) used for booking hoetls.***"
      ],
      "metadata": {
        "id": "HpucvsvIelIH"
      }
    },
    {
      "cell_type": "markdown",
      "source": [
        "## ***4] What is the percentage of Cancellation?***"
      ],
      "metadata": {
        "id": "ngVXWbNa6zwf"
      }
    },
    {
      "cell_type": "code",
      "source": [
        "#Visualizing the percentage of cancellation and non cancellation by the pie chart.\n",
        "\n",
        "hoteldb['is_canceled'].value_counts().plot.pie(explode=[0.05, 0.05], autopct='%1.1f%%', shadow=True, figsize=(10,8),fontsize=20)\n",
        "plt.title(\"Cancellation and non Cancellation\")"
      ],
      "metadata": {
        "id": "xfJHXNmtUvix"
      },
      "execution_count": null,
      "outputs": []
    },
    {
      "cell_type": "markdown",
      "source": [
        "## ***Observation***\n",
        "### ***0= not canceled***\n",
        "### ***1= canceled***\n",
        "\n",
        "### ***27.5 % of the bookings were cancelled.***"
      ],
      "metadata": {
        "id": "SM_tyQlYXPFJ"
      }
    },
    {
      "cell_type": "markdown",
      "source": [
        "## ***5] What is the percentage distribution of \"Customer Type\"?***"
      ],
      "metadata": {
        "id": "tSPcrRo1Yfla"
      }
    },
    {
      "cell_type": "code",
      "source": [
        "hoteldb['customer_type'].value_counts().plot.pie(explode=[0.05]*4,shadow=True,autopct='%1.1f%%',figsize=(12,8),fontsize=15,labels=None)\n",
        "\n",
        "\n",
        "labels=hoteldb['customer_type'].value_counts().index.tolist()\n",
        "plt.title('% Distribution of Customer Type')\n",
        "plt.legend(bbox_to_anchor=(0.85, 1), loc='upper left', labels=labels)"
      ],
      "metadata": {
        "id": "GO3SS8aHYNjR"
      },
      "execution_count": null,
      "outputs": []
    },
    {
      "cell_type": "markdown",
      "source": [
        "***1. Contract*** \n",
        ">***when the booking has an allotment or other type of contract associated to it.***\n",
        "\n",
        "***2. Group***\n",
        "> ***when the booking is associated to a group.***\n",
        "\n",
        "***3. Transient***\n",
        ">***when the booking is not part of a group or contract, and is not associated to other transient booking.***\n",
        "\n",
        "***4. Transient-party***\n",
        ">***when the booking is transient, but is associated to at least other transient booking.***\n",
        "\n",
        "## ***Observation***\n",
        "### ***Transient customer type is more whcih is 82.4 %. percentage of  Booking associated by the Group is vey low.***"
      ],
      "metadata": {
        "id": "3GtJNe6pY672"
      }
    },
    {
      "cell_type": "markdown",
      "source": [
        "## ***6] What is the Percentage of repeated guests?***"
      ],
      "metadata": {
        "id": "XTkgGU3dXViO"
      }
    },
    {
      "cell_type": "code",
      "source": [
        "hoteldb['is_repeated_guest'].value_counts().plot.pie(explode=(0.05,0.05),autopct='%1.1f%%',shadow=True,figsize=(15,8),fontsize=20)\n",
        "\n",
        "plt.title(\" Percentgae (%) of repeated guests\")"
      ],
      "metadata": {
        "id": "e6Hsn6EjWKOY"
      },
      "execution_count": null,
      "outputs": []
    },
    {
      "cell_type": "markdown",
      "source": [
        "## ***Observation:***\n",
        "### ***Repeated guests are very few which only 3.9 %.***\n",
        "### ***In order to retained the guests management should take feedbacks from guests and try to imporve the services.***"
      ],
      "metadata": {
        "id": "4bPLfdyDYZM3"
      }
    },
    {
      "cell_type": "markdown",
      "source": [],
      "metadata": {
        "id": "YaibsuE0tSEr"
      }
    },
    {
      "cell_type": "markdown",
      "source": [
        "## ***7] What is the percentage distribution of required car parking spaces?***"
      ],
      "metadata": {
        "id": "Ah46w-Y7ZAo7"
      }
    },
    {
      "cell_type": "code",
      "source": [
        "hoteldb['required_car_parking_spaces'].value_counts().plot.pie(explode=[0.05]*5,autopct='%1.1f%%',shadow=False,figsize=(15,8),fontsize=15,labels=None)\n",
        "\n",
        "labels=hoteldb['required_car_parking_spaces'].value_counts().index\n",
        "plt.title('% Distribution of required car parking spaces')\n",
        "plt.legend(bbox_to_anchor=(0.85, 1), loc='upper left', labels=labels)"
      ],
      "metadata": {
        "id": "HoleLFpeY3iC"
      },
      "execution_count": null,
      "outputs": []
    },
    {
      "cell_type": "markdown",
      "source": [
        "## ***Observation***\n",
        "### ***91.6 % guests did not required the parking space. only 8.3 % guests required only 1 parking space.***"
      ],
      "metadata": {
        "id": "etC6RtBnZHi7"
      }
    },
    {
      "cell_type": "markdown",
      "source": [
        "## ***8] What is the percentage of booking changes made by the customer?***"
      ],
      "metadata": {
        "id": "5eGI102_ZMHE"
      }
    },
    {
      "cell_type": "code",
      "source": [
        "booking_changes_df=hoteldb['booking_changes'].value_counts().reset_index().rename(columns={'index': \"number_booking_changes\",'booking_changes':'Counts'})\n",
        "\n",
        "plt.figure(figsize=(12,8))\n",
        "sns.barplot(x=booking_changes_df['number_booking_changes'],y=booking_changes_df['Counts']*100/hoteldb.shape[0])\n",
        "plt.title(\"% of Booking change\")\n",
        "plt.xlabel('Number of booking changes')\n",
        "plt.ylabel('Percentage(%)')"
      ],
      "metadata": {
        "id": "ugeyEUHFZE5b"
      },
      "execution_count": null,
      "outputs": []
    },
    {
      "cell_type": "markdown",
      "source": [
        "### 0= 0 changes made in the booking\n",
        "### 1= 1 changes made in the booking\n",
        "### 2= 2 changes made in the booking\n",
        "\n",
        "## ***Observation***\n",
        "### ***Almost 82% of the bookings were not changed by guests.***\n"
      ],
      "metadata": {
        "id": "Rfmr97bgZXue"
      }
    },
    {
      "cell_type": "markdown",
      "source": [
        "## ***9] Which type of food is mostly preferred by the guests?***"
      ],
      "metadata": {
        "id": "PGUS7PH5dIIX"
      }
    },
    {
      "cell_type": "code",
      "source": [
        "hoteldb['meal'].value_counts().plot.pie(explode=[0.05, 0.05,0.05,0.05,0.05], autopct='%1.1f%%', shadow=True, figsize=(15,8),fontsize=20)\n",
        "plt.figure(figsize=(12,8))\n",
        "sns.countplot(x=hoteldb['meal'])\n",
        "plt.xlabel('Meal Type')\n",
        "plt.ylabel('Count')\n",
        "plt.title(\"Preferred Meal Type\")\n"
      ],
      "metadata": {
        "id": "lB21TM0IdQUp"
      },
      "execution_count": null,
      "outputs": []
    },
    {
      "cell_type": "markdown",
      "source": [
        "**Types of meal in hotels:**\n",
        "* BB - (Bed and Breakfast)\n",
        "* HB- (Half Board)\n",
        "* FB- (Full Board)\n",
        "* SC- (Self Catering)\n",
        "## ***Observation***\n",
        "### ***So the most preferred meal type by the guests is BB( Bed and Breakfast).*** \n",
        "### ***HB- (Half Board) and SC- (Self Catering) are equally preferred.***\n"
      ],
      "metadata": {
        "id": "hKCDey2CdV7i"
      }
    },
    {
      "cell_type": "markdown",
      "source": [
        "# ***10] From which country the most guests are coming?***"
      ],
      "metadata": {
        "id": "RqdiQlWVdalh"
      }
    },
    {
      "cell_type": "code",
      "source": [
        "# Counting the guests from various countries.\n",
        "\n",
        "country_df=hoteldb['country'].value_counts().reset_index().rename(columns={'index': 'country','country': 'count of guests'})[:10]\n",
        "\n",
        "\n",
        "\n",
        "# Visualizing by  plotting the graph.\n",
        "\n",
        "plt.figure(figsize=(20,8))\n",
        "sns.barplot(x=country_df['country'],y=country_df['count of guests'])\n",
        "plt.xlabel('Country')\n",
        "plt.ylabel('Number of guests',fontsize=12)\n",
        "plt.title(\"Number of guests from diffrent Countries\")"
      ],
      "metadata": {
        "id": "ilzRTC72c1xC"
      },
      "execution_count": null,
      "outputs": []
    },
    {
      "cell_type": "markdown",
      "source": [
        "## ***Observation***\n",
        "### ***Most of the guests are coming from portugal i.e more 25000 guests are from portugal.***\n",
        "**abbreevations for countries-**\n",
        "\n",
        "\n",
        "\n",
        "1.   PRT- Portugal\n",
        "2.   GBR- United Kingdom\n",
        "3.   FRA- France\n",
        "4.   ESP- Spain\n",
        "5.   DEU - Germany\n",
        "6.   ITA -Itlay\n",
        "7.   IRL - Ireland\n",
        "8.   BEL -Belgium\n",
        "9.   BRA -Brazil\n",
        "10.  NLD-Netherlands\n",
        "\n",
        "\n",
        "\n"
      ],
      "metadata": {
        "id": "llfMvOV0dqz2"
      }
    },
    {
      "cell_type": "markdown",
      "source": [
        "# **Bivariate Analysis:** \n",
        "In a Bivariate Analysis, we try to analyze \n",
        "two features instead of one, and finally \n",
        "determine the classification of output we are \n",
        "looking for."
      ],
      "metadata": {
        "id": "wi9zGRtppKP5"
      }
    },
    {
      "cell_type": "markdown",
      "source": [
        "## ***1] In Which month  most of the booking happened.***"
      ],
      "metadata": {
        "id": "4WfpnAMNGqyK"
      }
    },
    {
      "cell_type": "code",
      "source": [
        "# groupby arrival_date_month and taking the hotel count.\n",
        "counts_per_month=hoteldb.groupby(['arrival_date_month'])['hotel'].count().reset_index().rename(columns={'hotel':\"Counts\"})\n",
        "\n",
        "\n",
        "\n",
        "# Create list of months in order.\n",
        "months = ['January', 'February', 'March', 'April', 'May', 'June', 'July', 'August', 'September', 'October', 'November', 'December']\n",
        "\n",
        "\n",
        "\n",
        "# creating df which will map the order of above months list without changing its values.\n",
        "counts_per_month['arrival_date_month']=pd.Categorical(counts_per_month['arrival_date_month'],categories=months,ordered=True)\n",
        "\n",
        "\n",
        "\n",
        "# sorting by arrival_date_month.\n",
        "counts_per_month=counts_per_month.sort_values('arrival_date_month')\n",
        "counts_per_month"
      ],
      "metadata": {
        "id": "kspZi6Xod2rc"
      },
      "execution_count": null,
      "outputs": []
    },
    {
      "cell_type": "code",
      "source": [
        "# plotting it\n",
        "counts_per_month= hoteldb.arrival_date_month.value_counts()\n",
        "counts_per_month.plot.pie(figsize=(15,10), title='Booking frequency every month', autopct='%1.1f%%' , fontsize=20 , shadow=True)"
      ],
      "metadata": {
        "id": "ePq8TjmknMhK"
      },
      "execution_count": null,
      "outputs": []
    },
    {
      "cell_type": "code",
      "source": [
        "# set plot size\n",
        "plt.figure(figsize=(20,8))\n",
        "\n",
        "#pltting lineplot on x- months & y- booking counts\n",
        "sns.lineplot(x=counts_per_month['arrival_date_month'],y=counts_per_month['Counts'])\n",
        "\n",
        "\n",
        "\n",
        "# set title for the plot\n",
        "plt.title('Number of bookings across each month')\n",
        "#set x label\n",
        "plt.xlabel('Month')\n",
        "#set y label\n",
        "plt.ylabel('Number of bookings')"
      ],
      "metadata": {
        "id": "OkXGMcOteBNf"
      },
      "execution_count": null,
      "outputs": []
    },
    {
      "cell_type": "markdown",
      "source": [
        " ## ***Observation***\n",
        " \n",
        "#### ***July and August months had the most Bookings. Summer vaccation can be the reason for the bookings.***"
      ],
      "metadata": {
        "id": "w_LPLQffeKIU"
      }
    },
    {
      "cell_type": "markdown",
      "source": [
        "## ***2] Which year and hotel had the highest bookings?***"
      ],
      "metadata": {
        "id": "lDW1EIcbepJj"
      }
    },
    {
      "cell_type": "code",
      "source": [
        "#Bookings statistics yearwise\n",
        "\n",
        "total_hotel_booking=hoteldb.groupby('arrival_date_year')['hotel'].count()\n",
        "total_hotel_booking\n",
        "diagram=total_hotel_booking.plot(kind='bar', width=0.9 ,color=['b','g','r','c','m','y','k'],figsize=(10,5), title = 'Bookings in respective years')"
      ],
      "metadata": {
        "id": "d6wRqAWmdPaQ"
      },
      "execution_count": null,
      "outputs": []
    },
    {
      "cell_type": "code",
      "source": [
        "# set plot size\n",
        "plt.figure(figsize=(12,8))\n",
        "\n",
        "#  plot with countplot\n",
        "sns.countplot(x=hoteldb['arrival_date_year'],hue=hoteldb['hotel'])\n",
        "plt.title(\"Year Wise bookings\")"
      ],
      "metadata": {
        "id": "uxcQ5HF5eYZI"
      },
      "execution_count": null,
      "outputs": []
    },
    {
      "cell_type": "markdown",
      "source": [
        "## ***Observation***\n",
        "### ***2016 had the higest bookings.***\n",
        "### ***2015 had the lowest bookings.***\n",
        "### ***overall City hotels had the most of the bookings.***"
      ],
      "metadata": {
        "id": "JjAvKhFyfNZJ"
      }
    },
    {
      "cell_type": "markdown",
      "source": [
        "## ***3] Which one is having higher number of stays Week nights or Weekend nights?***\n",
        "\n"
      ],
      "metadata": {
        "id": "Uw4StVC7oP7T"
      }
    },
    {
      "cell_type": "code",
      "source": [
        "#To find number of stays in week nights and weekend nights.\n",
        "\n",
        "week_and_weekend_stay=hoteldb[['stays_in_weekend_nights','stays_in_week_nights']].sum().reset_index().rename(columns={'index':'time of week',0:'stays'})\n",
        "week_and_weekend_stay"
      ],
      "metadata": {
        "id": "YG-QIa75MWPK"
      },
      "execution_count": null,
      "outputs": []
    },
    {
      "cell_type": "code",
      "source": [
        "#Plotting number of week night and weekend nights on a bar chart\n",
        "\n",
        "plt.barh(week_and_weekend_stay['time of week'],week_and_weekend_stay['stays'],color='green',edgecolor='black',height=0.9)\n",
        "plt.title('Number of stay in weekend vs weekdays')\n",
        "plt.ylabel('Time of the week')\n",
        "plt.xlabel('Nights of stay')"
      ],
      "metadata": {
        "id": "UcyZsyL_NZSR"
      },
      "execution_count": null,
      "outputs": []
    },
    {
      "cell_type": "markdown",
      "source": [
        "## ***Observation***\n",
        "### ***Guests Stays more in week nights than weekend nights.***"
      ],
      "metadata": {
        "id": "6T3PQSoTUYV7"
      }
    },
    {
      "cell_type": "markdown",
      "source": [
        "## ***4] Which Hotels has the most repeated guests?***"
      ],
      "metadata": {
        "id": "MPfwnVCRhJp_"
      }
    },
    {
      "cell_type": "code",
      "source": [
        "#repeated guest=1\n",
        "#not repeated guest=0\n",
        "#groupby hotel.\n",
        "repeated_guests_df=hoteldb[hoteldb['is_repeated_guest']==1].groupby('hotel').size().reset_index().rename(columns={0:'number_of_repated_guests'})\n",
        "\n",
        "\n",
        "\n",
        "#set plot size adn plot barplot.\n",
        "plt.figure(figsize=(10,8))\n",
        "sns.barplot(x=repeated_guests_df['hotel'],y=repeated_guests_df['number_of_repated_guests'])\n",
        "\n",
        "\n",
        "\n",
        "# set labels.\n",
        "plt.xlabel('Hotel type')\n",
        "plt.ylabel('count of repeated guests')\n",
        "plt.title(\"Most repeated guests for each hotel\")"
      ],
      "metadata": {
        "id": "HLyjP6MYhDg2"
      },
      "execution_count": null,
      "outputs": []
    },
    {
      "cell_type": "markdown",
      "source": [
        "## ***Observation***\n",
        "### ***Resort Hotel has slightly more repeated guests than the City Hotels. It is almost similar for both hotels.***"
      ],
      "metadata": {
        "id": "rZNVncgQNI2n"
      }
    },
    {
      "cell_type": "markdown",
      "source": [
        "## ***5] Which hotel type has the highest ADR(Average Daily Rate)?***"
      ],
      "metadata": {
        "id": "0qfSiqii8hu9"
      }
    },
    {
      "cell_type": "code",
      "source": [
        "# group by hote.\n",
        "group_by_hotel=hoteldb.groupby('hotel')\n",
        "\n",
        "\n",
        "\n",
        "#grouping by hotel ADR.\n",
        "highest_adr=group_by_hotel['adr'].mean().reset_index()\n",
        "\n",
        "\n",
        "\n",
        "#set plot size.\n",
        "plt.figure(figsize=(10,8))\n",
        "\n",
        "\n",
        "\n",
        "# set labels.\n",
        "plt.xlabel('Hotel type')\n",
        "plt.ylabel('ADR')\n",
        "plt.title(\"Avg ADR of each Hotel type\")\n",
        "\n",
        "\n",
        "\n",
        "#plot the graph.\n",
        "sns.barplot(x=highest_adr['hotel'],y=highest_adr['adr'])"
      ],
      "metadata": {
        "id": "578OYqmgKH_U"
      },
      "execution_count": null,
      "outputs": []
    },
    {
      "cell_type": "markdown",
      "source": [
        "## ***Observation***\n",
        "### ***City hotel has the highest ADR. That means city hotels are generating more revenues than the resort hotels. More the ADR more is the revenue.***"
      ],
      "metadata": {
        "id": "yDXi_76vfoKq"
      }
    },
    {
      "cell_type": "markdown",
      "source": [
        "## ***6] What is the ADR across the different months?***"
      ],
      "metadata": {
        "id": "Ibjp_cOcNI2n"
      }
    },
    {
      "cell_type": "code",
      "source": [
        "#groupby.\n",
        "bookings_by_months_df=hoteldb.groupby(['arrival_date_month','hotel'])['adr'].mean().reset_index()\n",
        "\n",
        "\n",
        "\n",
        "#create month list.\n",
        "months = ['January', 'February', 'March', 'April', 'May', 'June', 'July', 'August', 'September', 'October', 'November', 'December']\n",
        "# it will take the order of the month list in the df along with values\n",
        "bookings_by_months_df['arrival_date_month']=pd.Categorical(bookings_by_months_df['arrival_date_month'],categories=months,ordered=True)\n",
        "\n",
        "\n",
        "\n",
        "#sortting.\n",
        "bookings_by_months_df=bookings_by_months_df.sort_values('arrival_date_month')\n",
        "bookings_by_months_df\n"
      ],
      "metadata": {
        "id": "vvTQEDgzOfz2"
      },
      "execution_count": null,
      "outputs": []
    },
    {
      "cell_type": "code",
      "source": [
        "# set plot size and plot the line\n",
        "plt.figure(figsize=(20,8))\n",
        "sns.lineplot(x=bookings_by_months_df['arrival_date_month'],y=bookings_by_months_df['adr'],hue=bookings_by_months_df['hotel'])\n",
        "\n",
        "\n",
        "\n",
        "# set lables\n",
        "plt.title('ADR across each month')\n",
        "plt.xlabel('Month')\n",
        "plt.ylabel('ADR')"
      ],
      "metadata": {
        "id": "GiGdZL1zOmaW"
      },
      "execution_count": null,
      "outputs": []
    },
    {
      "cell_type": "markdown",
      "source": [
        "## ***Observation***\n",
        "\n",
        "### ***For Resrot hotel is ADR is high in the months June,July,August as compared to City Hotels. May be Customers/People wants to spend their Summer vaccation in Resorts Hotels.***\n",
        "\n",
        "### ***The best time for guests to visit Resort or City hotels is January, February, March, April,October, November and December as the avrage daily rate in this month is very low.*** "
      ],
      "metadata": {
        "id": "LNYYaTjXRgNk"
      }
    },
    {
      "cell_type": "markdown",
      "source": [
        "## ***7] Which distribution channel contributed more to ADR in order to increase the the income?***"
      ],
      "metadata": {
        "id": "7Q4vBQeyhqZ1"
      }
    },
    {
      "cell_type": "code",
      "source": [
        "# group by distribution channel and hotel.\n",
        "distribution_channel_df=hoteldb.groupby(['distribution_channel','hotel'])['adr'].mean().reset_index()\n",
        "\n",
        "\n",
        "\n",
        "# set plot size and plot barchart.\n",
        "plt.figure(figsize=(16,8))\n",
        "sns.barplot(x='distribution_channel', y='adr', data=distribution_channel_df, hue='hotel')\n",
        "plt.title('ADR across Distribution channel')"
      ],
      "metadata": {
        "id": "QatkWLkzhj9C"
      },
      "execution_count": null,
      "outputs": []
    },
    {
      "cell_type": "markdown",
      "source": [
        "* Corporate- These are corporate hotel booing companies which makes bookings \n",
        "possible.\n",
        "* GDS-A GDS is a worldwide conduit between travel bookers and suppliers, such as hotels and other accommodation providers. It communicates live product, price and availability data to travel agents and online booking engines, and allows for automated transactions.\n",
        "* Direct- means that bookings are directly made with the respective hotels\n",
        "* TA/TO- means that booings are made through  travel agents or travel operators.\n",
        "* Undefined- Bookings are undefined. may be customers made their bookings on arrival."
      ],
      "metadata": {
        "id": "gyjEPiaALbQZ"
      }
    },
    {
      "cell_type": "markdown",
      "source": [
        "## ***Observation***\n",
        "### ***From the plot it is clear that.*** \n",
        "### ***'Direct' and 'TA/TO' has almost equally contributed in adr in both type of hotels i.e. 'City Hotel' and 'Resort Hotel'.***\n",
        "###  ***GDS has highly contributed in adr in 'City Hotel' type.***\n",
        "### ***GDS needs to increase Resort Hotel bookings.***"
      ],
      "metadata": {
        "id": "hLkf0uK_LsM-"
      }
    },
    {
      "cell_type": "markdown",
      "source": [
        "## ***8] What is the ADR across different  market segment.***\n"
      ],
      "metadata": {
        "id": "i9WtNPMQMazu"
      }
    },
    {
      "cell_type": "code",
      "source": [
        "#Group by.\n",
        "Grupby=hoteldb.groupby(['market_segment','hotel','is_canceled'])['adr'].mean().reset_index()\n",
        "\n",
        "\n",
        "\n",
        "# set plot size and plto barchart\n",
        "plt.figure(figsize=(18,6))\n",
        "sns.barplot(x='market_segment',y='adr',hue='hotel',data=Grupby.sort_values(by='adr',ascending=False))\n",
        "plt.title('Adr across market segment')"
      ],
      "metadata": {
        "id": "YT4EuknXMT-Y"
      },
      "execution_count": null,
      "outputs": []
    },
    {
      "cell_type": "markdown",
      "source": [
        "## ***Obseravtion***\n",
        "### ***'Direct' and 'Online TA' are contributing the most in both types of hotels.***\n",
        "### ***Aviation segment should focus on increasing the bookings of 'City Hotel'.***"
      ],
      "metadata": {
        "id": "IHjjtvTfMfdd"
      }
    },
    {
      "cell_type": "markdown",
      "source": [
        "## ***9] How does length of stay affects the ADR?***"
      ],
      "metadata": {
        "id": "jOQihuM0A62N"
      }
    },
    {
      "cell_type": "code",
      "source": [
        "# Groupby adr,total,stay,hotel,\n",
        "adr_vs_stay = hoteldb.groupby(['total_stay', 'adr','hotel']).agg('count').reset_index()\n",
        "adr_vs_stay = adr_vs_stay.iloc[:, :3]\n",
        "adr_vs_stay = adr_vs_stay.rename(columns={'is_canceled':'Number of stays'})\n",
        "adr_vs_stay=adr_vs_stay[:18000]\n",
        "adr_vs_stay"
      ],
      "metadata": {
        "id": "w8GGU6h-Mdls"
      },
      "execution_count": null,
      "outputs": []
    },
    {
      "cell_type": "code",
      "source": [
        "#plot line chart\n",
        "plt.figure(figsize=(16,8))\n",
        "sns.lineplot(x='total_stay',y='adr',data=adr_vs_stay)\n",
        "plt.title('Relationship between adr and total stay')"
      ],
      "metadata": {
        "id": "ObPKEMuXMzli"
      },
      "execution_count": null,
      "outputs": []
    },
    {
      "cell_type": "markdown",
      "source": [
        "## ***Observation***\n",
        "### ***As the total stay increases the  ADR also increases.***"
      ],
      "metadata": {
        "id": "7m0tBusbM3GW"
      }
    },
    {
      "cell_type": "markdown",
      "source": [
        "## ***10] Which hotel has longer waiting time?***"
      ],
      "metadata": {
        "id": "S7375nsBg6eJ"
      }
    },
    {
      "cell_type": "code",
      "source": [
        "#groupping by hoetl and takin mean of days in waiting list\n",
        "waiting_time_df=hoteldb.groupby('hotel')['days_in_waiting_list'].mean().reset_index()\n",
        "# waiting_time_df\n",
        "\n",
        "#set the plot size\n",
        "plt.figure(figsize=(10,8))\n",
        "\n",
        "# plot barchart\n",
        "sns.barplot(x=waiting_time_df['hotel'],y=waiting_time_df['days_in_waiting_list'])\n",
        "\n",
        "#set labels\n",
        "plt.xlabel('Hotel type')\n",
        "plt.ylabel('waiting time')\n",
        "plt.title(\"Waiting time for each hotel type\")"
      ],
      "metadata": {
        "id": "flZ5ukFTg2V0"
      },
      "execution_count": null,
      "outputs": []
    },
    {
      "cell_type": "markdown",
      "source": [
        "## ***Observation***\n",
        "### ***So the City Hotels has longer waiting period than the Resort Hotel. Thus we can say that City Hotels are much busier than the Resort Hotels***"
      ],
      "metadata": {
        "id": "Lta8m-IzhGql"
      }
    },
    {
      "cell_type": "markdown",
      "source": [
        "## ***11] Which Market Segment  has the higest cancellation rate?***"
      ],
      "metadata": {
        "id": "wVpPjWjeMDa9"
      }
    },
    {
      "cell_type": "code",
      "source": [
        "market_segment_df=hoteldb[hoteldb['is_canceled']==1]   # canceled=1\n",
        "market_segment_df\n",
        "market_segment_df=market_segment_df.groupby(['market_segment','hotel']).size().reset_index().rename(columns={0:'counts'})   # group by\n",
        "\n",
        "market_segment_df"
      ],
      "metadata": {
        "id": "qfwMywrIMD0w"
      },
      "execution_count": null,
      "outputs": []
    },
    {
      "cell_type": "code",
      "source": [
        "#set plotsizde and plot barchart.\n",
        "plt.figure(figsize=(20,8))\n",
        "sns.barplot(x='market_segment',y='counts',hue=\"hotel\",data= market_segment_df)\n",
        "\n",
        "\n",
        "\n",
        "# set labels.\n",
        "plt.xlabel('market_segment')\n",
        "plt.ylabel('Counts')\n",
        "plt.title('Cancellation Rate Vs market_segment')"
      ],
      "metadata": {
        "id": "fdDMV_FLMHGV"
      },
      "execution_count": null,
      "outputs": []
    },
    {
      "cell_type": "markdown",
      "source": [
        "## ***Observation*** \n",
        "### ***'Online T/A' has the highest cancellation in both type of cities.***\n",
        "### ***In order to reduce the booking cancellations hotels need to set the refundable/ no refundable and deposit policies policies.***"
      ],
      "metadata": {
        "id": "mm_h5iORMLGt"
      }
    },
    {
      "cell_type": "markdown",
      "source": [
        "## ***12]What is the Optimal stay length in both types of hotels?***"
      ],
      "metadata": {
        "id": "t2HgRsMtMoAS"
      }
    },
    {
      "cell_type": "code",
      "source": [
        "#group by total stay and hotel.\n",
        "stay = hoteldb.groupby(['total_stay', 'hotel']).agg('count').reset_index()\n",
        "\n",
        "\n",
        "\n",
        "#take 1st 3 columns. \n",
        "stay = stay.iloc[:, :3]  \n",
        "#rename the columns.                                        \n",
        "stay = stay.rename(columns={'is_canceled':'Number of stays'})   \n"
      ],
      "metadata": {
        "id": "9aCoMTvqMtHF"
      },
      "execution_count": null,
      "outputs": []
    },
    {
      "cell_type": "code",
      "source": [
        "# set plot size and plot barchart.\n",
        "plt.figure(figsize=(15,9))\n",
        "sns.barplot(x='total_stay',y='Number of stays',hue='hotel',data=stay)\n",
        "\n",
        "\n",
        "\n",
        "#set labels.\n",
        "plt.title('Optimal Stay Length in Both hotel types')\n",
        "plt.ylabel('count of stays')\n",
        "plt.xlabel('total_stay(days)')"
      ],
      "metadata": {
        "id": "lhUtCJecMvEO"
      },
      "execution_count": null,
      "outputs": []
    },
    {
      "cell_type": "markdown",
      "source": [
        "## ***Observation***\n",
        "### ***Optimal stay in both the type hotel is less than 7 days.***"
      ],
      "metadata": {
        "id": "D-0GhGojMxW2"
      }
    },
    {
      "cell_type": "markdown",
      "source": [
        "# **Multivariate Analysis :**\n",
        "Multivariate analysis deals with such a \n",
        "complex set of data with more than two \n",
        "features and variables.\n"
      ],
      "metadata": {
        "id": "qUjJDMtOrPX5"
      }
    },
    {
      "cell_type": "markdown",
      "source": [
        "## ***From the histograms below we can have a brief picture of various column trends.***\n"
      ],
      "metadata": {
        "id": "HFwBFNuNuq5_"
      }
    },
    {
      "cell_type": "code",
      "source": [
        "hoteldb.hist(figsize=(20,14))\n",
        "plt.show()"
      ],
      "metadata": {
        "id": "9Z6dhNYZup_A"
      },
      "execution_count": null,
      "outputs": []
    },
    {
      "cell_type": "markdown",
      "source": [
        "## ***Requirement of car parking spaces year and month wise.***"
      ],
      "metadata": {
        "id": "1fm_bE7AvO1f"
      }
    },
    {
      "cell_type": "code",
      "source": [
        "#Creating a line chart to express the relation between the required number of car parking spaces and year by using seaborn\n",
        "\n",
        "plt.figure(figsize=(14,5))\n",
        "sns.lineplot(data=hoteldb,x=\"arrival_date_month\", y=\"required_car_parking_spaces\", hue = 'arrival_date_year', palette= 'Set2')\n",
        "plt.legend(['2015', '2016', '2017'])\n",
        "plt.title(\"Year wise parking requirements of hotels \", fontsize = 18)\n",
        "plt.ylabel(\"Number of car parking spaces required\",fontsize = 15)\n",
        "plt.xlabel(\"Months\",fontsize = 15)"
      ],
      "metadata": {
        "id": "ocAHwlE8vUwx"
      },
      "execution_count": null,
      "outputs": []
    },
    {
      "cell_type": "markdown",
      "source": [
        "## ***Bookings made through market segments by different countries.***"
      ],
      "metadata": {
        "id": "vTDPx_CNh8WW"
      }
    },
    {
      "cell_type": "code",
      "source": [
        "#Plotting bookings made through three main market segments by different countries' \n",
        "\n",
        "market_segment_by_country=hoteldb.groupby(['country','market_segment'])['market_segment'].count().unstack().sort_values('Direct',ascending=False).head(10)\n",
        "market_segment_by_country[['Direct','Offline TA/TO','Online TA']].plot(kind='bar',width=0.8)\n",
        "plt.title('Bookings made by different market segments according to countries')\n",
        "plt.xlabel('Countries')\n",
        "plt.ylabel('Number of bookings')\n",
        "plt.rcParams['figure.figsize'] = (12, 8)\n"
      ],
      "metadata": {
        "id": "SSPJdx4xONDE"
      },
      "execution_count": null,
      "outputs": []
    },
    {
      "cell_type": "markdown",
      "source": [
        "## ***Correlation of the Columns.***"
      ],
      "metadata": {
        "id": "OOmPyWoUif6O"
      }
    },
    {
      "cell_type": "code",
      "source": [
        "# correlation graph of the data using heatmap.\n",
        "plt.figure(figsize=(20,8))\n",
        "sns.heatmap(hoteldb.corr(),annot=True)\n",
        "plt.title('Co-relation of the columns')"
      ],
      "metadata": {
        "id": "eO8qLhixM1R_"
      },
      "execution_count": null,
      "outputs": []
    },
    {
      "cell_type": "markdown",
      "source": [
        "## **Correlation Analysis**"
      ],
      "metadata": {
        "id": "I8-15SNDseWg"
      }
    },
    {
      "cell_type": "code",
      "source": [
        "correlation = hoteldb.corr()\n",
        "correlation"
      ],
      "metadata": {
        "id": "0U58XNOdsiJI"
      },
      "execution_count": null,
      "outputs": []
    },
    {
      "cell_type": "markdown",
      "source": [
        "1) Stays in week night and total stay are positively corelated, even more than weekend nights which says, longer stays are in week time only.\n",
        "\n",
        "2) lead_time and total_stay is positively corelated. That means more is the stay of customer more will be the lead time.\n",
        "\n",
        "3) Total people, total stay and ADR has positive correlation which means more the people, longer the stay will give more revenue.\n",
        "\n",
        "4) is_repeated guest and previous bookings not canceled has strong correlation. may be repeated guests are not more likely to cancel their bookings.\n",
        "\n",
        "5) adults and lead time a positively corelated which means more the adults more the lead time\n",
        "\n",
        "6) children and lead time a re negatively co-related means more the children lesser the lead time.\n",
        "\n",
        "7) ADR and children are very positively corelated, which states more the children more is the revenue."
      ],
      "metadata": {
        "id": "C1YA_GSPsuE_"
      }
    },
    {
      "cell_type": "code",
      "source": [
        "fig, axes = plt.subplots(1, 2, figsize=(18,6))\n",
        "\n",
        "grp_by_room = hoteldb.groupby('assigned_room_type')\n",
        "hoteldb['Num_of_bookings'] = grp_by_room.size()\n",
        "\n",
        "\n",
        "\n",
        "#plotting in demand room\n",
        "sns.countplot(ax = axes[0], x = hoteldb['assigned_room_type'])\n",
        "#plotting high adr genrating room\n",
        "sns.boxplot(ax = axes[1], x = hoteldb['assigned_room_type'], y = hoteldb['adr'])    # pl0tting high adr genrating room\n",
        "plt.show()"
      ],
      "metadata": {
        "id": "YuZl1AzhbPQV"
      },
      "execution_count": null,
      "outputs": []
    },
    {
      "cell_type": "markdown",
      "source": [
        "# **INSIGHTS DRAWN**\n",
        "\n",
        "1. Ratio of bookings - 66.4%- City hotels & 33.6% - Resort hotels\n",
        "2. Most customers are from Portugal, followed by Great Britain, France and Spain.\n",
        "3. City hotels are more Preferred as compared to resort hotels\n",
        "4. Most bookings were done in 2016.\n",
        "5. 27.5 % bookings were got cancelled out of all the bookings\n",
        "6. Booking cancellation rate is high for City hotels which almost 30 %.\n",
        "7. Repeated customers are very less. Quality of service needs to improve\n",
        "8. In case of resort hotels ADR was highest in august and lowest during november and january\n",
        "9. In case of city hotels ADR was highest in may and lowest during january.\n",
        "10. \tAverage ADR for city hotel is high as compared to resort hotels. These City hotels are generating more revenue than the resort hotels.\n",
        "11. On an average, May-June is the busier and most profitable month for the hotels.\n",
        "12. Most of the customers (91.6%) do not require car parking spaces.\n",
        "13. Ratio of guests with kids is less than the ratio of guests without kids.\n",
        "14. Since retention is low and most of them are new guests, hotel needs to make specific changes. \n",
        "15. Online travel agencies exceeds offline travel agencies and direct booking by far except for Portugal,in which online travel agencies and offline travel agencies are almost equal.\n",
        "16. We can see that 'A' type room is most in demand but on contrary room type 'H', 'G' and 'F' are most adr genrating rooms respectively\n",
        "17. Online Market segments gets a lot of customers in comparison to other modes.\n",
        "18. BB (Bed and Breakfast) is the most preferred meal type by the guest\n",
        "\n",
        "\n",
        "\n",
        "\n"
      ],
      "metadata": {
        "id": "neLGtOWj7YwR"
      }
    },
    {
      "cell_type": "markdown",
      "source": [
        "## **CONCLUSION**\n",
        "\n",
        "After careful analysis , we can conclude that the hotel industry can benefit a lot by studying the type of customers, their booking mode, the booking month and the seasons. The hotel industry market, their ADR and bookings are based on the type of customers,the month, types of meal, hotel type ,their country of origin, Room types, booking medium and many others.\n"
      ],
      "metadata": {
        "id": "Gmz00xfu09mn"
      }
    },
    {
      "cell_type": "markdown",
      "source": [
        "# **SUGGESTIONS**\n",
        "\n",
        "1. The hotel industry can take the advantage of seasons and months as ADR was highest in august (rainy season).\n",
        "2. Most customers booked rooms online so they can be targeted with proper seasonal discounts and vacay-ads.\n",
        "3. Since ADR was least during Nov and Jan, winter discounts(assumption) or off season discounts might help. \n",
        "4. For retention, they should introduce portugese meals(sea foods and meat) and eastern european meals as guests are more from there.\n",
        "5. They should encourage direct bookings by offering some special discounts as online bookings cancellation is high.\n",
        "6. Since room A is booked more, they should take into account the factors how it is different from other rooms and implement the same in other rooms as well.\n",
        "7. Since resort hotels are less preferred, they should look into the factors- might be High cost or guests requirements. \n"
      ],
      "metadata": {
        "id": "XUki1w7H1AJ_"
      }
    }
  ]
}